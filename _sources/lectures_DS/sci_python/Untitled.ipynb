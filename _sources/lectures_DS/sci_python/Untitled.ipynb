{
 "cells": [
  {
   "cell_type": "code",
   "execution_count": 1,
   "id": "8c0ca6ca-6abb-466f-8490-371eed9d84a0",
   "metadata": {},
   "outputs": [],
   "source": [
    "import numpy as np"
   ]
  },
  {
   "cell_type": "code",
   "execution_count": 2,
   "id": "960d0ff7-e688-4f04-82b5-a1769ddc3b71",
   "metadata": {},
   "outputs": [],
   "source": [
    "g = np.load('g.npy')"
   ]
  },
  {
   "cell_type": "code",
   "execution_count": 3,
   "id": "9de31c8e-70cf-4890-8413-273087e2d653",
   "metadata": {},
   "outputs": [
    {
     "data": {
      "text/plain": [
       "(50, 100)"
      ]
     },
     "execution_count": 3,
     "metadata": {},
     "output_type": "execute_result"
    }
   ],
   "source": [
    "g.shape"
   ]
  },
  {
   "cell_type": "code",
   "execution_count": 4,
   "id": "de84a8dc-448b-4d6c-b1f9-4cf8262b459c",
   "metadata": {},
   "outputs": [
    {
     "data": {
      "text/plain": [
       "array([[-9.42326863e-32, -4.77205105e-17, -9.27211559e-17, ...,\n",
       "        -9.27211559e-17, -4.77205105e-17, -9.42326863e-32],\n",
       "       [-9.86000036e-17, -4.99321700e-02, -9.70184196e-02, ...,\n",
       "        -9.70184196e-02, -4.99321700e-02, -9.86000036e-17],\n",
       "       [-1.96794839e-16, -9.96591580e-02, -1.93638170e-01, ...,\n",
       "        -1.93638170e-01, -9.96591580e-02, -1.96794839e-16],\n",
       "       ...,\n",
       "       [-1.96794839e-16, -9.96591580e-02, -1.93638170e-01, ...,\n",
       "        -1.93638170e-01, -9.96591580e-02, -1.96794839e-16],\n",
       "       [-9.86000036e-17, -4.99321700e-02, -9.70184196e-02, ...,\n",
       "        -9.70184196e-02, -4.99321700e-02, -9.86000036e-17],\n",
       "       [-9.42326863e-32, -4.77205105e-17, -9.27211559e-17, ...,\n",
       "        -9.27211559e-17, -4.77205105e-17, -9.42326863e-32]],\n",
       "      shape=(50, 100))"
      ]
     },
     "execution_count": 4,
     "metadata": {},
     "output_type": "execute_result"
    }
   ],
   "source": [
    "g"
   ]
  },
  {
   "cell_type": "code",
   "execution_count": null,
   "id": "88b7633d-d516-4d26-97af-8a4d5360d2f1",
   "metadata": {},
   "outputs": [],
   "source": []
  }
 ],
 "metadata": {
  "kernelspec": {
   "display_name": "Python 3 (ipykernel)",
   "language": "python",
   "name": "python3"
  },
  "language_info": {
   "codemirror_mode": {
    "name": "ipython",
    "version": 3
   },
   "file_extension": ".py",
   "mimetype": "text/x-python",
   "name": "python",
   "nbconvert_exporter": "python",
   "pygments_lexer": "ipython3",
   "version": "3.12.10"
  }
 },
 "nbformat": 4,
 "nbformat_minor": 5
}
