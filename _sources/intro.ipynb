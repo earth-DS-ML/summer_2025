{
 "cells": [
  {
   "cell_type": "markdown",
   "id": "5ecf14e5-e13e-4bbb-b686-a7f21cd3e6fe",
   "metadata": {},
   "source": [
    "# Welcome to Earth Data Science and Machine Learning class"
   ]
  },
  {
   "cell_type": "code",
   "execution_count": null,
   "id": "138d8559-487d-4432-acdd-4851fcd42f52",
   "metadata": {},
   "outputs": [],
   "source": []
  },
  {
   "cell_type": "code",
   "execution_count": null,
   "id": "05d89bd5-0cb4-4b0d-9861-1bf09560f7d5",
   "metadata": {},
   "outputs": [],
   "source": []
  },
  {
   "cell_type": "markdown",
   "id": "7b5ccee6-830e-4a29-ba8e-99f475ead68b",
   "metadata": {},
   "source": [
    "Check out the content pages bundled with this sample book to see more.\n",
    "\n",
    "```{tableofcontents}\n",
    "```"
   ]
  },
  {
   "cell_type": "code",
   "execution_count": null,
   "id": "e53a1440-4a6e-4344-bf4d-ed6052ba542c",
   "metadata": {},
   "outputs": [],
   "source": []
  }
 ],
 "metadata": {
  "kernelspec": {
   "display_name": "Python 3 (ipykernel)",
   "language": "python",
   "name": "python3"
  },
  "language_info": {
   "codemirror_mode": {
    "name": "ipython",
    "version": 3
   },
   "file_extension": ".py",
   "mimetype": "text/x-python",
   "name": "python",
   "nbconvert_exporter": "python",
   "pygments_lexer": "ipython3",
   "version": "3.12.8"
  }
 },
 "nbformat": 4,
 "nbformat_minor": 5
}
