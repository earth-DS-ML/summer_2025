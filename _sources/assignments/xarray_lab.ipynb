{
 "cells": [
  {
   "cell_type": "markdown",
   "id": "4bb0256d-ed1d-40f8-a20e-1888bb80ba21",
   "metadata": {},
   "source": [
    "# Lab: Xarray with Sea Surface Temperature (SST) data\n",
    "\n",
    "Here we will work with NOAA's SST dataset, which can be accessed via:\n",
    "> http://www.esrl.noaa.gov/psd/thredds/dodsC/Datasets/noaa.ersst.v5/sst.mnmean.nc\n",
    "\n",
    "Start by importing Numpy, Matplotlib, and Xarray. Set the default figure size to (12, 6)."
   ]
  },
  {
   "cell_type": "markdown",
   "id": "a17bca6d-623b-4233-8d6e-4b9b0ad64af5",
   "metadata": {},
   "source": [
    "## 1) Opening data and examining the metadata "
   ]
  },
  {
   "cell_type": "markdown",
   "id": "294e849f-35b5-42c3-9667-1a7a6156150f",
   "metadata": {},
   "source": [
    "### 1.1) Open the dataset and display its contents"
   ]
  },
  {
   "cell_type": "markdown",
   "id": "36b34c6b-8e81-42a7-9507-6b0d0775951d",
   "metadata": {},
   "source": [
    "### 1.2) Print out the `long_name` attribute of each variable and coordinate"
   ]
  },
  {
   "cell_type": "markdown",
   "id": "d93fbb9b-4a66-4724-9da1-a6ca0cb83bc5",
   "metadata": {},
   "source": [
    "## 2) Basic reductions, arithmetic, means, and plotting "
   ]
  },
  {
   "cell_type": "markdown",
   "id": "89ed4c5e-1bbf-4a11-b058-1a5ca92703ee",
   "metadata": {},
   "source": [
    "### 2.1) Calculate the time-mean of the entire dataset \n",
    "### 2.2) Plot a map of the time-mean that was generated in the above part"
   ]
  },
  {
   "cell_type": "markdown",
   "id": "fc77224a-3ab2-41c6-994d-83854162bd19",
   "metadata": {},
   "source": [
    "### 2.3) Calculate a spatial mean for each time, and plot this as a timeseries\n"
   ]
  },
  {
   "cell_type": "markdown",
   "id": "51ad5c4b-4fea-43da-8412-1c2e5ab4a087",
   "metadata": {},
   "source": [
    "### 2.4) Create a `weight` array proportional to $\\cos(\\lambda)$\n",
    "\n",
    "Think carefully a about radians vs. degrees\n",
    "\n",
    "The goal here is to realize that the dataset is provided on a $2^o$X$2^o$ lat-lon grid. But we know that the distance between longitude lines shrinks as we approach the poles. \n",
    "\n",
    "This means that if we take a naive mean (as done in the above part), we are overemphasizing the influence of the regions away from the equator (since their area is smaller but they contribute the same to the mean). So here we plan to appropriately weight our data. \n",
    "\n"
   ]
  },
  {
   "cell_type": "markdown",
   "id": "21d983dd-1f3d-4f52-af82-ad87850eb7b5",
   "metadata": {},
   "source": [
    "### 2.5) Redo the calculation of the spatial mean for each time, and plot this as a timeseries\n"
   ]
  },
  {
   "cell_type": "markdown",
   "id": "839ba11c-9b49-4560-aec2-05e30abe90f4",
   "metadata": {},
   "source": [
    "##  3) Selecting and Merging Data\n",
    "\n",
    "For the next problem, use the following approximate locations of four different locations in the ocean.\n",
    "\n",
    "| city | lon | lat |\n",
    "| -- | -- | -- |\n",
    "| Equatorial Pacific (EP) | 250 E | 0 N | \n",
    "| Southern Ocean (SO) | 50 E | 60 S | \n",
    "| North Atlantic (NAtl) | 300 E | 30 N |\n",
    "| Arabian Sea (AS) | 60 E | 20 N |"
   ]
  },
  {
   "cell_type": "markdown",
   "id": "5db75a90-f50c-427a-a7bc-a969c5b5f1f8",
   "metadata": {},
   "source": [
    "### 3.1) Create a dataset for each point from the global dataset"
   ]
  },
  {
   "cell_type": "markdown",
   "id": "c48686f7-ebc1-4bde-99fb-cc386e4d6de7",
   "metadata": {},
   "source": [
    "### 3.2) Combine these four datasets into a new dataset with the new dimension `location`\n",
    "\n",
    "Create a new dimension coordinate to hold the location name.\n",
    "Display the combined dataset."
   ]
  },
  {
   "cell_type": "markdown",
   "id": "561d8674-4e62-4c2d-b379-4b4d7d11392f",
   "metadata": {},
   "source": [
    "### 3.3) Plot the SST at each location as a timeseries over the last 3 years\n"
   ]
  },
  {
   "cell_type": "markdown",
   "id": "ba10e747-a346-49f7-b356-310ad73e67f3",
   "metadata": {},
   "source": [
    "## 4) Group by and ENSO: Reproduce the SST curve from the figure below\n",
    "\n",
    "\n",
    "![enso](https://www.ncdc.noaa.gov/monitoring-content/teleconnections/eln-f-pg.gif)\n",
    "\n",
    "\n",
    "You don't have to match the stylistic details, or use different colors above and below zero, just the \"3mth running mean\" curve.\n",
    "\n",
    "Here will will calculate the NINO 3.4 index of El Nino variabillity (which is the quantity shown in the above plot) and use it to analyze datasets.\n",
    "\n",
    "\n",
    "- The Niño 3.4 region is defined as the region between +/- 5 deg. lat, 170 W - 120 W lon.\n",
    "- Warm or cold phases of the Oceanic Niño Index are defined by a five consecutive 3-month running mean of sea surface temperature (SST) anomalies in the Niño 3.4 region that is above the threshold of +0.5°C (warm), or below the threshold of -0.5°C (cold). This is known as the Oceanic Niño Index (ONI).\n",
    "\n",
    "(Note that \"anomaly\" means that the seasonal cycle, also called the \"climatology\" has been removed.)\n",
    "\n",
    "\n",
    "Also for this part: Drop the `time_bnds` variable as we did in class and trim the data to 1950 onward for this assignment."
   ]
  },
  {
   "cell_type": "code",
   "execution_count": null,
   "id": "44983004-c0fc-4662-87ab-d1a38e27458c",
   "metadata": {},
   "outputs": [],
   "source": []
  }
 ],
 "metadata": {
  "kernelspec": {
   "display_name": "Python 3 (ipykernel)",
   "language": "python",
   "name": "python3"
  },
  "language_info": {
   "codemirror_mode": {
    "name": "ipython",
    "version": 3
   },
   "file_extension": ".py",
   "mimetype": "text/x-python",
   "name": "python",
   "nbconvert_exporter": "python",
   "pygments_lexer": "ipython3",
   "version": "3.12.10"
  }
 },
 "nbformat": 4,
 "nbformat_minor": 5
}
