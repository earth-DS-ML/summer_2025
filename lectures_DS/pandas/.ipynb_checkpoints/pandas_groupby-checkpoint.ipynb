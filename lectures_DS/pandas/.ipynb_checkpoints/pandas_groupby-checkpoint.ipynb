{
 "cells": [
  {
   "cell_type": "markdown",
   "metadata": {},
   "source": [
    "# Pandas: Groupby\n",
    "\n",
    "`groupby` is an amazingly powerful function in pandas. But it is also complicated to use and understand.\n",
    "The point of this lesson is to make you feel confident in using `groupby` and its cousins, `resample` and `rolling`. \n",
    "\n",
    "These notes are loosely based on the [Pandas GroupBy Documentation](http://pandas.pydata.org/pandas-docs/stable/groupby.html).\n",
    "\n",
    "The \"split/apply/combine\" concept was first introduced in a paper by Hadley Wickham: <https://www.jstatsoft.org/article/view/v040i01>.\n",
    "\n",
    "\n",
    "Imports:"
   ]
  },
  {
   "cell_type": "code",
   "execution_count": 1,
   "metadata": {},
   "outputs": [],
   "source": [
    "import numpy as np\n",
    "from matplotlib import pyplot as plt\n",
    "plt.rcParams['figure.figsize'] = (12,7)\n",
    "%matplotlib inline\n",
    "import pandas as pd"
   ]
  },
  {
   "cell_type": "markdown",
   "metadata": {},
   "source": [
    "First we read the Earthquake data from our previous assignment:"
   ]
  },
  {
   "cell_type": "code",
   "execution_count": 2,
   "metadata": {},
   "outputs": [
    {
     "data": {
      "text/html": [
       "<div>\n",
       "<style scoped>\n",
       "    .dataframe tbody tr th:only-of-type {\n",
       "        vertical-align: middle;\n",
       "    }\n",
       "\n",
       "    .dataframe tbody tr th {\n",
       "        vertical-align: top;\n",
       "    }\n",
       "\n",
       "    .dataframe thead th {\n",
       "        text-align: right;\n",
       "    }\n",
       "</style>\n",
       "<table border=\"1\" class=\"dataframe\">\n",
       "  <thead>\n",
       "    <tr style=\"text-align: right;\">\n",
       "      <th></th>\n",
       "      <th>time</th>\n",
       "      <th>latitude</th>\n",
       "      <th>longitude</th>\n",
       "      <th>depth</th>\n",
       "      <th>mag</th>\n",
       "      <th>magType</th>\n",
       "      <th>nst</th>\n",
       "      <th>gap</th>\n",
       "      <th>dmin</th>\n",
       "      <th>rms</th>\n",
       "      <th>...</th>\n",
       "      <th>place</th>\n",
       "      <th>type</th>\n",
       "      <th>horizontalError</th>\n",
       "      <th>depthError</th>\n",
       "      <th>magError</th>\n",
       "      <th>magNst</th>\n",
       "      <th>status</th>\n",
       "      <th>locationSource</th>\n",
       "      <th>magSource</th>\n",
       "      <th>country</th>\n",
       "    </tr>\n",
       "    <tr>\n",
       "      <th>id</th>\n",
       "      <th></th>\n",
       "      <th></th>\n",
       "      <th></th>\n",
       "      <th></th>\n",
       "      <th></th>\n",
       "      <th></th>\n",
       "      <th></th>\n",
       "      <th></th>\n",
       "      <th></th>\n",
       "      <th></th>\n",
       "      <th></th>\n",
       "      <th></th>\n",
       "      <th></th>\n",
       "      <th></th>\n",
       "      <th></th>\n",
       "      <th></th>\n",
       "      <th></th>\n",
       "      <th></th>\n",
       "      <th></th>\n",
       "      <th></th>\n",
       "      <th></th>\n",
       "    </tr>\n",
       "  </thead>\n",
       "  <tbody>\n",
       "    <tr>\n",
       "      <th>us6000qkt1</th>\n",
       "      <td>2025-06-17 12:00:22.773000+00:00</td>\n",
       "      <td>-23.1645</td>\n",
       "      <td>-175.3549</td>\n",
       "      <td>10.000</td>\n",
       "      <td>4.9</td>\n",
       "      <td>mb</td>\n",
       "      <td>22.0</td>\n",
       "      <td>166.0</td>\n",
       "      <td>6.481</td>\n",
       "      <td>0.49</td>\n",
       "      <td>...</td>\n",
       "      <td>206 km SSW of ‘Ohonua, Tonga</td>\n",
       "      <td>earthquake</td>\n",
       "      <td>15.85</td>\n",
       "      <td>1.938</td>\n",
       "      <td>0.093</td>\n",
       "      <td>36.0</td>\n",
       "      <td>reviewed</td>\n",
       "      <td>us</td>\n",
       "      <td>us</td>\n",
       "      <td>Tonga</td>\n",
       "    </tr>\n",
       "    <tr>\n",
       "      <th>us6000qksf</th>\n",
       "      <td>2025-06-17 09:16:30.483000+00:00</td>\n",
       "      <td>-23.1181</td>\n",
       "      <td>-174.9129</td>\n",
       "      <td>10.000</td>\n",
       "      <td>4.8</td>\n",
       "      <td>mb</td>\n",
       "      <td>16.0</td>\n",
       "      <td>111.0</td>\n",
       "      <td>6.151</td>\n",
       "      <td>0.48</td>\n",
       "      <td>...</td>\n",
       "      <td>196 km S of ‘Ohonua, Tonga</td>\n",
       "      <td>earthquake</td>\n",
       "      <td>14.94</td>\n",
       "      <td>1.939</td>\n",
       "      <td>0.148</td>\n",
       "      <td>14.0</td>\n",
       "      <td>reviewed</td>\n",
       "      <td>us</td>\n",
       "      <td>us</td>\n",
       "      <td>Tonga</td>\n",
       "    </tr>\n",
       "    <tr>\n",
       "      <th>us6000qks2</th>\n",
       "      <td>2025-06-17 08:36:22.986000+00:00</td>\n",
       "      <td>8.2769</td>\n",
       "      <td>126.8035</td>\n",
       "      <td>34.840</td>\n",
       "      <td>5.3</td>\n",
       "      <td>mww</td>\n",
       "      <td>100.0</td>\n",
       "      <td>67.0</td>\n",
       "      <td>1.706</td>\n",
       "      <td>1.23</td>\n",
       "      <td>...</td>\n",
       "      <td>42 km ENE of Barcelona, Philippines</td>\n",
       "      <td>earthquake</td>\n",
       "      <td>7.91</td>\n",
       "      <td>3.994</td>\n",
       "      <td>0.062</td>\n",
       "      <td>25.0</td>\n",
       "      <td>reviewed</td>\n",
       "      <td>us</td>\n",
       "      <td>us</td>\n",
       "      <td>Philippines</td>\n",
       "    </tr>\n",
       "    <tr>\n",
       "      <th>us6000qkrz</th>\n",
       "      <td>2025-06-17 08:13:19.239000+00:00</td>\n",
       "      <td>50.6542</td>\n",
       "      <td>156.7597</td>\n",
       "      <td>91.831</td>\n",
       "      <td>4.7</td>\n",
       "      <td>mb</td>\n",
       "      <td>55.0</td>\n",
       "      <td>152.0</td>\n",
       "      <td>2.526</td>\n",
       "      <td>0.64</td>\n",
       "      <td>...</td>\n",
       "      <td>44 km E of Severo-Kuril’sk, Russia</td>\n",
       "      <td>earthquake</td>\n",
       "      <td>10.38</td>\n",
       "      <td>7.726</td>\n",
       "      <td>0.032</td>\n",
       "      <td>287.0</td>\n",
       "      <td>reviewed</td>\n",
       "      <td>us</td>\n",
       "      <td>us</td>\n",
       "      <td>Russia</td>\n",
       "    </tr>\n",
       "    <tr>\n",
       "      <th>us6000qks0</th>\n",
       "      <td>2025-06-17 08:12:55.629000+00:00</td>\n",
       "      <td>-32.8812</td>\n",
       "      <td>-13.2948</td>\n",
       "      <td>10.000</td>\n",
       "      <td>5.0</td>\n",
       "      <td>mb</td>\n",
       "      <td>44.0</td>\n",
       "      <td>59.0</td>\n",
       "      <td>4.254</td>\n",
       "      <td>0.91</td>\n",
       "      <td>...</td>\n",
       "      <td>southern Mid-Atlantic Ridge</td>\n",
       "      <td>earthquake</td>\n",
       "      <td>10.55</td>\n",
       "      <td>1.837</td>\n",
       "      <td>0.076</td>\n",
       "      <td>55.0</td>\n",
       "      <td>reviewed</td>\n",
       "      <td>us</td>\n",
       "      <td>us</td>\n",
       "      <td>southern Mid-Atlantic Ridge</td>\n",
       "    </tr>\n",
       "  </tbody>\n",
       "</table>\n",
       "<p>5 rows × 22 columns</p>\n",
       "</div>"
      ],
      "text/plain": [
       "                                       time  latitude  longitude   depth  mag  \\\n",
       "id                                                                              \n",
       "us6000qkt1 2025-06-17 12:00:22.773000+00:00  -23.1645  -175.3549  10.000  4.9   \n",
       "us6000qksf 2025-06-17 09:16:30.483000+00:00  -23.1181  -174.9129  10.000  4.8   \n",
       "us6000qks2 2025-06-17 08:36:22.986000+00:00    8.2769   126.8035  34.840  5.3   \n",
       "us6000qkrz 2025-06-17 08:13:19.239000+00:00   50.6542   156.7597  91.831  4.7   \n",
       "us6000qks0 2025-06-17 08:12:55.629000+00:00  -32.8812   -13.2948  10.000  5.0   \n",
       "\n",
       "           magType    nst    gap   dmin   rms  ...  \\\n",
       "id                                             ...   \n",
       "us6000qkt1      mb   22.0  166.0  6.481  0.49  ...   \n",
       "us6000qksf      mb   16.0  111.0  6.151  0.48  ...   \n",
       "us6000qks2     mww  100.0   67.0  1.706  1.23  ...   \n",
       "us6000qkrz      mb   55.0  152.0  2.526  0.64  ...   \n",
       "us6000qks0      mb   44.0   59.0  4.254  0.91  ...   \n",
       "\n",
       "                                          place        type horizontalError  \\\n",
       "id                                                                            \n",
       "us6000qkt1         206 km SSW of ‘Ohonua, Tonga  earthquake           15.85   \n",
       "us6000qksf           196 km S of ‘Ohonua, Tonga  earthquake           14.94   \n",
       "us6000qks2  42 km ENE of Barcelona, Philippines  earthquake            7.91   \n",
       "us6000qkrz   44 km E of Severo-Kuril’sk, Russia  earthquake           10.38   \n",
       "us6000qks0          southern Mid-Atlantic Ridge  earthquake           10.55   \n",
       "\n",
       "           depthError  magError  magNst    status  locationSource magSource  \\\n",
       "id                                                                            \n",
       "us6000qkt1      1.938     0.093    36.0  reviewed              us        us   \n",
       "us6000qksf      1.939     0.148    14.0  reviewed              us        us   \n",
       "us6000qks2      3.994     0.062    25.0  reviewed              us        us   \n",
       "us6000qkrz      7.726     0.032   287.0  reviewed              us        us   \n",
       "us6000qks0      1.837     0.076    55.0  reviewed              us        us   \n",
       "\n",
       "                                country  \n",
       "id                                       \n",
       "us6000qkt1                        Tonga  \n",
       "us6000qksf                        Tonga  \n",
       "us6000qks2                  Philippines  \n",
       "us6000qkrz                       Russia  \n",
       "us6000qks0  southern Mid-Atlantic Ridge  \n",
       "\n",
       "[5 rows x 22 columns]"
      ]
     },
     "execution_count": 2,
     "metadata": {},
     "output_type": "execute_result"
    }
   ],
   "source": [
    "df = pd.read_csv('https://raw.githubusercontent.com/earth-DS-ML/summer_2025/refs/heads/main/lectures_DS/data/usgs_earthquakes_2025.csv', parse_dates=['time'], index_col='id')\n",
    "df['country'] = df.place.str.split(', ').str[-1]\n",
    "df_small = df[df.mag<4]\n",
    "df = df[df.mag>4]\n",
    "df.head()"
   ]
  },
  {
   "cell_type": "code",
   "execution_count": 3,
   "metadata": {},
   "outputs": [
    {
     "data": {
      "text/plain": [
       "5923"
      ]
     },
     "execution_count": 3,
     "metadata": {},
     "output_type": "execute_result"
    }
   ],
   "source": [
    "len(df)"
   ]
  },
  {
   "cell_type": "code",
   "execution_count": 5,
   "metadata": {},
   "outputs": [
    {
     "data": {
      "text/plain": [
       "<Axes: xlabel='id'>"
      ]
     },
     "execution_count": 5,
     "metadata": {},
     "output_type": "execute_result"
    },
    {
     "data": {
      "image/png": "[encoded data removed]",
      "text/plain": [
       "<Figure size 1200x700 with 1 Axes>"
      ]
     },
     "metadata": {},
     "output_type": "display_data"
    }
   ],
   "source": [
    "df.mag.plot()"
   ]
  },
  {
   "cell_type": "code",
   "execution_count": 6,
   "metadata": {},
   "outputs": [
    {
     "data": {
      "text/plain": [
       "<Axes: ylabel='Frequency'>"
      ]
     },
     "execution_count": 6,
     "metadata": {},
     "output_type": "execute_result"
    },
    {
     "data": {
      "image/png": "[encoded data removed]",
      "text/plain": [
       "<Figure size 1200x700 with 1 Axes>"
      ]
     },
     "metadata": {},
     "output_type": "display_data"
    }
   ],
   "source": [
    "df.mag.plot.hist()"
   ]
  },
  {
   "cell_type": "markdown",
   "metadata": {},
   "source": [
    "## An Example\n",
    "\n",
    "This is an example of a \"one-liner\" that you can accomplish with groupby."
   ]
  },
  {
   "cell_type": "code",
   "execution_count": 7,
   "metadata": {},
   "outputs": [
    {
     "data": {
      "text/plain": [
       "<Axes: xlabel='country'>"
      ]
     },
     "execution_count": 7,
     "metadata": {},
     "output_type": "execute_result"
    },
    {
     "data": {
      "image/png": "[encoded data removed]",
      "text/plain": [
       "<Figure size 1200x600 with 1 Axes>"
      ]
     },
     "metadata": {},
     "output_type": "display_data"
    }
   ],
   "source": [
    "df.groupby('country').mag.count().nlargest(20).plot(kind='bar', figsize=(12,6))"
   ]
  },
  {
   "cell_type": "code",
   "execution_count": 8,
   "metadata": {},
   "outputs": [
    {
     "data": {
      "text/plain": [
       "<Axes: xlabel='country'>"
      ]
     },
     "execution_count": 8,
     "metadata": {},
     "output_type": "execute_result"
    },
    {
     "data": {
      "image/png": "[encoded data removed]",
      "text/plain": [
       "<Figure size 1200x600 with 1 Axes>"
      ]
     },
     "metadata": {},
     "output_type": "display_data"
    }
   ],
   "source": [
    "df_small.groupby('country').mag.count().nlargest(20).plot(kind='bar', figsize=(12,6))"
   ]
  },
  {
   "cell_type": "markdown",
   "metadata": {},
   "source": [
    "## What Happened?\n",
    "\n",
    "Let's break apart this operation a bit. The workflow with `groubpy` can be divided into three general steps:\n",
    "\n",
    "1. **Split**: Partition the data into different groups based on some criterion.\n",
    "1. **Apply**: Do some caclulation within each group. Different types of \"apply\" steps might be\n",
    "  1. *Aggregation*: Get the mean or max within the group.\n",
    "  1. *Transformation*: Normalize all the values within a group\n",
    "  1. *Filtration*: Eliminate some groups based on a criterion.\n",
    "1. **Combine**: Put the results back together into a single object.\n",
    "\n",
    "![split-apply-combine](https://miro.medium.com/max/1840/1*JbF6nhrQsn4f-TaSF6IR9g.png)\n",
    "\n",
    "### The `groupby` method\n",
    "\n",
    "Both `Series` and `DataFrame` objects have a groupby method. It accepts a variety of arguments, but the simplest way to think about it is that you pass another series, whose unique values are used to split the original object into different groups.\n",
    "\n",
    "via <https://medium.com/analytics-vidhya/split-apply-combine-strategy-for-data-mining-4fd6e2a0cc99>"
   ]
  },
  {
   "cell_type": "code",
   "execution_count": 10,
   "metadata": {},
   "outputs": [
    {
     "data": {
      "text/html": [
       "<div>\n",
       "<style scoped>\n",
       "    .dataframe tbody tr th:only-of-type {\n",
       "        vertical-align: middle;\n",
       "    }\n",
       "\n",
       "    .dataframe tbody tr th {\n",
       "        vertical-align: top;\n",
       "    }\n",
       "\n",
       "    .dataframe thead th {\n",
       "        text-align: right;\n",
       "    }\n",
       "</style>\n",
       "<table border=\"1\" class=\"dataframe\">\n",
       "  <thead>\n",
       "    <tr style=\"text-align: right;\">\n",
       "      <th></th>\n",
       "      <th>time</th>\n",
       "      <th>latitude</th>\n",
       "      <th>longitude</th>\n",
       "      <th>depth</th>\n",
       "      <th>mag</th>\n",
       "      <th>magType</th>\n",
       "      <th>nst</th>\n",
       "      <th>gap</th>\n",
       "      <th>dmin</th>\n",
       "      <th>rms</th>\n",
       "      <th>...</th>\n",
       "      <th>place</th>\n",
       "      <th>type</th>\n",
       "      <th>horizontalError</th>\n",
       "      <th>depthError</th>\n",
       "      <th>magError</th>\n",
       "      <th>magNst</th>\n",
       "      <th>status</th>\n",
       "      <th>locationSource</th>\n",
       "      <th>magSource</th>\n",
       "      <th>country</th>\n",
       "    </tr>\n",
       "    <tr>\n",
       "      <th>id</th>\n",
       "      <th></th>\n",
       "      <th></th>\n",
       "      <th></th>\n",
       "      <th></th>\n",
       "      <th></th>\n",
       "      <th></th>\n",
       "      <th></th>\n",
       "      <th></th>\n",
       "      <th></th>\n",
       "      <th></th>\n",
       "      <th></th>\n",
       "      <th></th>\n",
       "      <th></th>\n",
       "      <th></th>\n",
       "      <th></th>\n",
       "      <th></th>\n",
       "      <th></th>\n",
       "      <th></th>\n",
       "      <th></th>\n",
       "      <th></th>\n",
       "      <th></th>\n",
       "    </tr>\n",
       "  </thead>\n",
       "  <tbody>\n",
       "    <tr>\n",
       "      <th>us6000qkt1</th>\n",
       "      <td>2025-06-17 12:00:22.773000+00:00</td>\n",
       "      <td>-23.1645</td>\n",
       "      <td>-175.3549</td>\n",
       "      <td>10.000</td>\n",
       "      <td>4.9</td>\n",
       "      <td>mb</td>\n",
       "      <td>22.0</td>\n",
       "      <td>166.0</td>\n",
       "      <td>6.481</td>\n",
       "      <td>0.49</td>\n",
       "      <td>...</td>\n",
       "      <td>206 km SSW of ‘Ohonua, Tonga</td>\n",
       "      <td>earthquake</td>\n",
       "      <td>15.85</td>\n",
       "      <td>1.938</td>\n",
       "      <td>0.093</td>\n",
       "      <td>36.0</td>\n",
       "      <td>reviewed</td>\n",
       "      <td>us</td>\n",
       "      <td>us</td>\n",
       "      <td>Tonga</td>\n",
       "    </tr>\n",
       "    <tr>\n",
       "      <th>us6000qksf</th>\n",
       "      <td>2025-06-17 09:16:30.483000+00:00</td>\n",
       "      <td>-23.1181</td>\n",
       "      <td>-174.9129</td>\n",
       "      <td>10.000</td>\n",
       "      <td>4.8</td>\n",
       "      <td>mb</td>\n",
       "      <td>16.0</td>\n",
       "      <td>111.0</td>\n",
       "      <td>6.151</td>\n",
       "      <td>0.48</td>\n",
       "      <td>...</td>\n",
       "      <td>196 km S of ‘Ohonua, Tonga</td>\n",
       "      <td>earthquake</td>\n",
       "      <td>14.94</td>\n",
       "      <td>1.939</td>\n",
       "      <td>0.148</td>\n",
       "      <td>14.0</td>\n",
       "      <td>reviewed</td>\n",
       "      <td>us</td>\n",
       "      <td>us</td>\n",
       "      <td>Tonga</td>\n",
       "    </tr>\n",
       "    <tr>\n",
       "      <th>us6000qks2</th>\n",
       "      <td>2025-06-17 08:36:22.986000+00:00</td>\n",
       "      <td>8.2769</td>\n",
       "      <td>126.8035</td>\n",
       "      <td>34.840</td>\n",
       "      <td>5.3</td>\n",
       "      <td>mww</td>\n",
       "      <td>100.0</td>\n",
       "      <td>67.0</td>\n",
       "      <td>1.706</td>\n",
       "      <td>1.23</td>\n",
       "      <td>...</td>\n",
       "      <td>42 km ENE of Barcelona, Philippines</td>\n",
       "      <td>earthquake</td>\n",
       "      <td>7.91</td>\n",
       "      <td>3.994</td>\n",
       "      <td>0.062</td>\n",
       "      <td>25.0</td>\n",
       "      <td>reviewed</td>\n",
       "      <td>us</td>\n",
       "      <td>us</td>\n",
       "      <td>Philippines</td>\n",
       "    </tr>\n",
       "    <tr>\n",
       "      <th>us6000qkrz</th>\n",
       "      <td>2025-06-17 08:13:19.239000+00:00</td>\n",
       "      <td>50.6542</td>\n",
       "      <td>156.7597</td>\n",
       "      <td>91.831</td>\n",
       "      <td>4.7</td>\n",
       "      <td>mb</td>\n",
       "      <td>55.0</td>\n",
       "      <td>152.0</td>\n",
       "      <td>2.526</td>\n",
       "      <td>0.64</td>\n",
       "      <td>...</td>\n",
       "      <td>44 km E of Severo-Kuril’sk, Russia</td>\n",
       "      <td>earthquake</td>\n",
       "      <td>10.38</td>\n",
       "      <td>7.726</td>\n",
       "      <td>0.032</td>\n",
       "      <td>287.0</td>\n",
       "      <td>reviewed</td>\n",
       "      <td>us</td>\n",
       "      <td>us</td>\n",
       "      <td>Russia</td>\n",
       "    </tr>\n",
       "    <tr>\n",
       "      <th>us6000qks0</th>\n",
       "      <td>2025-06-17 08:12:55.629000+00:00</td>\n",
       "      <td>-32.8812</td>\n",
       "      <td>-13.2948</td>\n",
       "      <td>10.000</td>\n",
       "      <td>5.0</td>\n",
       "      <td>mb</td>\n",
       "      <td>44.0</td>\n",
       "      <td>59.0</td>\n",
       "      <td>4.254</td>\n",
       "      <td>0.91</td>\n",
       "      <td>...</td>\n",
       "      <td>southern Mid-Atlantic Ridge</td>\n",
       "      <td>earthquake</td>\n",
       "      <td>10.55</td>\n",
       "      <td>1.837</td>\n",
       "      <td>0.076</td>\n",
       "      <td>55.0</td>\n",
       "      <td>reviewed</td>\n",
       "      <td>us</td>\n",
       "      <td>us</td>\n",
       "      <td>southern Mid-Atlantic Ridge</td>\n",
       "    </tr>\n",
       "  </tbody>\n",
       "</table>\n",
       "<p>5 rows × 22 columns</p>\n",
       "</div>"
      ],
      "text/plain": [
       "                                       time  latitude  longitude   depth  mag  \\\n",
       "id                                                                              \n",
       "us6000qkt1 2025-06-17 12:00:22.773000+00:00  -23.1645  -175.3549  10.000  4.9   \n",
       "us6000qksf 2025-06-17 09:16:30.483000+00:00  -23.1181  -174.9129  10.000  4.8   \n",
       "us6000qks2 2025-06-17 08:36:22.986000+00:00    8.2769   126.8035  34.840  5.3   \n",
       "us6000qkrz 2025-06-17 08:13:19.239000+00:00   50.6542   156.7597  91.831  4.7   \n",
       "us6000qks0 2025-06-17 08:12:55.629000+00:00  -32.8812   -13.2948  10.000  5.0   \n",
       "\n",
       "           magType    nst    gap   dmin   rms  ...  \\\n",
       "id                                             ...   \n",
       "us6000qkt1      mb   22.0  166.0  6.481  0.49  ...   \n",
       "us6000qksf      mb   16.0  111.0  6.151  0.48  ...   \n",
       "us6000qks2     mww  100.0   67.0  1.706  1.23  ...   \n",
       "us6000qkrz      mb   55.0  152.0  2.526  0.64  ...   \n",
       "us6000qks0      mb   44.0   59.0  4.254  0.91  ...   \n",
       "\n",
       "                                          place        type horizontalError  \\\n",
       "id                                                                            \n",
       "us6000qkt1         206 km SSW of ‘Ohonua, Tonga  earthquake           15.85   \n",
       "us6000qksf           196 km S of ‘Ohonua, Tonga  earthquake           14.94   \n",
       "us6000qks2  42 km ENE of Barcelona, Philippines  earthquake            7.91   \n",
       "us6000qkrz   44 km E of Severo-Kuril’sk, Russia  earthquake           10.38   \n",
       "us6000qks0          southern Mid-Atlantic Ridge  earthquake           10.55   \n",
       "\n",
       "           depthError  magError  magNst    status  locationSource magSource  \\\n",
       "id                                                                            \n",
       "us6000qkt1      1.938     0.093    36.0  reviewed              us        us   \n",
       "us6000qksf      1.939     0.148    14.0  reviewed              us        us   \n",
       "us6000qks2      3.994     0.062    25.0  reviewed              us        us   \n",
       "us6000qkrz      7.726     0.032   287.0  reviewed              us        us   \n",
       "us6000qks0      1.837     0.076    55.0  reviewed              us        us   \n",
       "\n",
       "                                country  \n",
       "id                                       \n",
       "us6000qkt1                        Tonga  \n",
       "us6000qksf                        Tonga  \n",
       "us6000qks2                  Philippines  \n",
       "us6000qkrz                       Russia  \n",
       "us6000qks0  southern Mid-Atlantic Ridge  \n",
       "\n",
       "[5 rows x 22 columns]"
      ]
     },
     "execution_count": 10,
     "metadata": {},
     "output_type": "execute_result"
    }
   ],
   "source": [
    "df.head()"
   ]
  },
  {
   "cell_type": "code",
   "execution_count": 11,
   "metadata": {},
   "outputs": [
    {
     "data": {
      "text/plain": [
       "id\n",
       "us6000qkt1                            Tonga\n",
       "us6000qksf                            Tonga\n",
       "us6000qks2                      Philippines\n",
       "us6000qkrz                           Russia\n",
       "us6000qks0      southern Mid-Atlantic Ridge\n",
       "                          ...              \n",
       "us6000pll8                         Ethiopia\n",
       "us6000pj3b                            Libya\n",
       "us6000pj2q                            Tonga\n",
       "us6000pll7    south of the Kermadec Islands\n",
       "us6000plld                         Ethiopia\n",
       "Name: country, Length: 5923, dtype: object"
      ]
     },
     "execution_count": 11,
     "metadata": {},
     "output_type": "execute_result"
    }
   ],
   "source": [
    "df.country"
   ]
  },
  {
   "cell_type": "code",
   "execution_count": 12,
   "metadata": {},
   "outputs": [
    {
     "data": {
      "text/plain": [
       "<pandas.core.groupby.generic.DataFrameGroupBy object at 0x7d1622dc9f40>"
      ]
     },
     "execution_count": 12,
     "metadata": {},
     "output_type": "execute_result"
    }
   ],
   "source": [
    "df.groupby(df.country)"
   ]
  },
  {
   "cell_type": "markdown",
   "metadata": {},
   "source": [
    "There is a shortcut for doing this with dataframes: you just pass the column name:"
   ]
  },
  {
   "cell_type": "code",
   "execution_count": 13,
   "metadata": {},
   "outputs": [
    {
     "data": {
      "text/plain": [
       "<pandas.core.groupby.generic.DataFrameGroupBy object at 0x7d1622dbb4a0>"
      ]
     },
     "execution_count": 13,
     "metadata": {},
     "output_type": "execute_result"
    }
   ],
   "source": [
    "df.groupby('country')"
   ]
  },
  {
   "cell_type": "markdown",
   "metadata": {},
   "source": [
    "### The `GroubBy` object\n",
    "\n",
    "When we call, `groupby` we get back a `GroupBy` object:"
   ]
  },
  {
   "cell_type": "code",
   "execution_count": 14,
   "metadata": {},
   "outputs": [
    {
     "data": {
      "text/plain": [
       "<pandas.core.groupby.generic.DataFrameGroupBy object at 0x7d1622dcb440>"
      ]
     },
     "execution_count": 14,
     "metadata": {},
     "output_type": "execute_result"
    }
   ],
   "source": [
    "gb = df.groupby('country')\n",
    "gb"
   ]
  },
  {
   "cell_type": "markdown",
   "metadata": {},
   "source": [
    "The length tells us how many groups were found:"
   ]
  },
  {
   "cell_type": "code",
   "execution_count": 15,
   "metadata": {},
   "outputs": [
    {
     "data": {
      "text/plain": [
       "194"
      ]
     },
     "execution_count": 15,
     "metadata": {},
     "output_type": "execute_result"
    }
   ],
   "source": [
    "len(gb)"
   ]
  },
  {
   "cell_type": "code",
   "execution_count": 16,
   "metadata": {
    "collapsed": true,
    "jupyter": {
     "outputs_hidden": true
    }
   },
   "outputs": [
    {
     "data": {
      "text/plain": [
       "{'2025 Drake Passage Earthquake': ['us7000pwkn'], 'Afghanistan': ['us6000qkkm', 'us6000qjhm', 'us6000qiif', 'us6000qhyi', 'us6000qh0s', 'us7000q1by', 'us7000q0z5', 'us7000q0aw', 'us7000q05h', 'us7000pzz5', 'us7000pyne', 'us7000pydu', 'us7000px78', 'us7000pwle', 'us7000pve9', 'us7000pvcr', 'us7000pv82', 'us7000pv7x', 'us7000pv02', 'us6000q76g', 'us6000q6fr', 'us7000pw58', 'us6000q6c3', 'us7000ppcq', 'us7000pni6', 'us7000pni0', 'us7000pne1', 'us7000pn0e', 'us7000pmym', 'us7000plhv', 'us7000plec', 'us6000pzkp', 'us6000pxul', 'us6000pwru', 'us6000pxge', 'us6000pvsk', 'us7000pflg', 'us7000pfcc', 'us7000pfc9', 'us7000pefx', 'us7000pd3k', 'us7000pchv', 'us7000pb68', 'us7000pb30', 'us6000pmd7', 'us6000plpp', 'us6000pk88', 'us6000pk23', 'us6000pjtx', 'us6000pjpy', 'us6000pjlp'], 'Alaska': ['ak0257l477bi', 'ak0257jjjt29', 'us6000qjn2', 'ak0257egu4bq', 'us6000qim5', 'us6000qhrc', 'us6000qhqn', 'us6000qh9t', 'us6000qh5l', 'us6000qgw0', 'us6000qgul', 'us6000qgu2', 'ak0256ktdnj4', 'us7000q120', 'us7000q103', 'us7000q05k', 'ak0256cduo5a', 'us7000pzxn', 'us7000pzxk', 'us7000pzuw', 'us7000pyxj', 'us7000pylz', 'ak0255xdoqqm', 'us7000pxq3', 'us7000pxfn', 'us7000px7s', 'us7000px2b', 'us7000px16', 'us7000pwzd', 'ak0255iimhly', 'ak0255gxqhup', 'us7000pvhf', 'us7000pvg2', 'us7000pz0m', 'us7000pvfz', 'ak0255c5z643', 'ak0255ai7sp2', 'us7000puzd', 'us7000puxl', 'ak02558sa3g9', 'ak02556vvgv8', 'ak02550duu6u', 'us6000q6uf', 'us6000q6d9', 'us6000q63h', 'ak0254qpszpf', 'us6000q5px', 'us6000q4n1', 'us7000ppga', 'ak02546kb91j', 'us7000pnzd', 'ak02543813cl', 'us7000pncx', 'us7000pm2d', 'us7000plv1', 'us7000plu1', 'us7000plq5', 'us7000plph', 'us7000plqb', 'us7000plmb', 'us7000plm0', 'us7000pllz', 'us7000pllx', 'us7000pllu', 'us7000plkc', 'us7000pli7', 'us7000plh5', 'us7000pldt', 'us6000pzzb', 'us6000pzxa', 'us6000pzwx', 'us6000pzwb', 'us6000pzqj', 'us6000pzqc', 'us6000pz88', 'ak0253g7eroz', 'ak0253bfth7a', 'ak02539pgcbe', 'ak0252zva6il', 'us6000pwu6', 'us6000pwrr', 'us6000pwgw', 'us6000pwgv', 'us6000pwav', 'us6000pw0n', 'us6000pvyk', 'us6000pvws', 'us6000pvlf', 'us6000pvcz', 'us7000pf61', 'us7000peyt', 'ak0252at3f6f', 'ak02525rrdfc', 'us7000pfaj', 'ak025215oy3m', 'us7000pcsr', 'us7000pcdc', 'us7000pc67', 'ak0251no79w4', 'ak0251no5hd4', ...], 'Algeria': ['us6000pzjl'], 'Anguilla': ['us7000q1pi', 'us7000pnj1', 'us7000pmzs'], 'Antigua and Barbuda': ['us6000q727'], 'Arctic Ocean': ['us6000pw77'], 'Argentina': ['us6000qkr2', 'us6000qkjx', 'us6000qkge', 'us6000qjeh', 'us6000qjc1', 'us6000qizy', 'us6000qixb', 'us6000qivj', 'us6000qipm', 'us6000qid1', 'us6000qic2', 'us6000qi0p', 'us6000qh7k', 'us6000qgat', 'us7000q1iy', 'us7000q1h1', 'us7000q19u', 'us7000q19r', 'us7000q18v', 'us7000q16k', 'us7000q0t0', 'us7000q0ph', 'us7000q0nf', 'us7000q0gx', 'us7000q0gl', 'us7000q0g2', 'us7000q0ei', 'us7000q08s', 'us7000pzsu', 'us7000pzrr', 'us7000pzqr', 'us7000pzpf', 'us7000pyxp', 'us7000pyxf', 'us7000pywq', 'us7000pypa', 'us7000pymb', 'us7000pyfw', 'us7000pyd0', 'us7000pxzj', 'us7000pxwc', 'us7000pxuz', 'us7000pxsr', 'us7000q0ul', 'us7000pxgt', 'us7000pxga', 'us7000pxet', 'us7000pxdq', 'us7000px7t', 'us7000px7r', 'us7000px70', 'us7000px5s', 'us7000q0dg', 'us7000px3t', 'us7000px2n', 'us7000px2k', 'us7000px2f', 'us7000px2e', 'us7000px21', 'us7000px1n', 'us7000px11', 'us7000pxuq', 'us7000px0d', 'us7000pwzm', 'us7000pwyb', 'us7000q06w', 'us7000pwx1', 'us7000pwwx', 'us7000pwwr', 'us7000pwvl', 'us7000pwvf', 'us7000q06n', 'us7000pwvb', 'us7000pwuu', 'us7000pwuw', 'us7000q071', 'us7000q06h', 'us7000pwu4', 'us7000pxmh', 'us7000pwtl', 'us7000pwt6', 'us7000pzn7', 'us7000pws6', 'us7000pwrt', 'us7000pwrl', 'us7000pwr3', 'us7000pzna', 'us7000pwqt', 'us7000pwqr', 'us7000pwqj', 'us7000pwqh', 'us7000pwq7', 'us7000pwq4', 'us7000pwqa', 'us7000pwpu', 'us7000pwpi', 'us7000pwp8', 'us7000pwp6', 'us7000pwp5', 'us7000pwp2', ...], 'Armenia': ['us6000pxla'], 'Ascension Island region': ['us6000pzsm', 'us6000py1g', 'us6000pzrl'], 'Australia': ['us7000q14n', 'us7000pua2', 'us6000q403', 'us6000pw9t', 'us7000pccz', 'us6000ply9', 'us6000pjcz'], 'Azerbaijan': ['us6000pxcy'], 'Azores Islands region': ['us6000pw1w'], 'Bahamas': ['us7000pbgs'], 'Balleny Islands region': ['us6000qk0w', 'us7000pya4', 'us6000q3l2', 'us6000q3pb', 'us6000pxxd', 'us6000pyvw', 'us6000pyvv', 'us7000peg4', 'us6000pvek'], 'Banda Sea': ['us6000qjd5', 'us6000qhhq', 'us7000q1ax', 'us7000pwys', 'us6000q6yj', 'us6000q6ad', 'us6000q4pm', 'us7000plt2', 'us6000pzp8', 'us6000pzje', 'us6000pz92', 'us6000py48', 'us6000pxs1', 'us6000pxlx', 'us6000pwq3', 'us6000pvss', 'us6000pxf2', 'us7000pdj1', 'us7000pdh2', 'us7000pctb', 'us7000pafc', 'us7000pbvd'], 'Barbados': ['us7000pvgz'], 'Bolivia': ['us6000qke5', 'us6000qgpx', 'us6000qgja', 'us7000q1gg', 'us7000q04n', 'us7000pytn', 'us7000py8h', 'us7000pvhc', 'us7000puyi', 'us7000pugx', 'us6000q75s', 'us6000q6nc', 'us7000pm4n', 'us6000pvkg', 'us7000pcae', 'us7000pdff', 'us6000pjk9'], 'Bosnia and Herzegovina': ['us7000pyn6'], 'Brazil': ['us6000q3lw', 'us6000pw95'], 'Burma': ['us7000pnbt', 'us7000pnbe', 'us7000pnba'], 'Burma (Myanmar)': ['us6000qjak', 'us6000qjah', 'us6000qj3e', 'us6000qhnw', 'us6000qgji', 'us6000qjkt', 'us6000qi7n', 'us7000q025', 'us7000pzv3', 'us7000py69', 'us7000px5u', 'us7000pzd6', 'us7000pvha', 'us6000q72i', 'us6000q6w6', 'us6000q6pf', 'us7000pw6m', 'us6000q5tq', 'us6000q5ps', 'us6000q5e2', 'us7000putd', 'us6000q5b0', 'us7000pus6', 'us6000q4vy', 'us7000pu8u', 'us6000q6tu', 'us6000q3ye', 'us7000ppgb', 'us7000ppf6', 'us6000q5fg', 'us7000pp91', 'us7000pp7z', 'us7000pp3w', 'us6000q565', 'us6000q55v', 'us6000q55u', 'us7000pnwl', 'us7000pnsw', 'us7000pnsb', 'us6000q4xv', 'us6000q4xp', 'us7000pnqp', 'us7000pnkj', 'us6000q4s3', 'us6000q4ru', 'us6000q4ke', 'us6000q4kb', 'us6000q4k2', 'us7000pne5', 'us7000pnq3', 'us7000pnc5', 'us7000pnfz', 'us7000pnfs', 'us7000pnbh', 'us6000q4jp', 'us7000pnf1', 'us7000pnb8', 'us6000q4jt', 'us6000q4ji', 'us7000pnb6', 'us7000pncv', 'us7000pncy', 'us7000pn9z', 'us6000pwwz', 'us6000pwx1', 'us6000pylr', 'us6000pwjj', 'us6000pw91', 'us7000pfnn', 'us7000pffe', 'us6000pm9m'], 'Burma (Myanmar) Earthquake': ['us7000pn9s'], 'CA': ['nc75195021', 'nc75186621', 'nc75186201', 'nc75170586', 'ci40925991', 'nc75149826', 'ci41075584', 'nc75133062', 'nc75132032', 'nc75131617', 'nc75123321'], 'Canada': ['us6000qjm5', 'us6000pv9t', 'us7000pfbs', 'us7000peye', 'us7000pbsu', 'us7000pax1', 'us7000p9ue', 'us6000pjt7'], 'Carlsberg Ridge': ['us6000qka3', 'us6000qgsu', 'us6000qi7p', 'us7000q169', 'us6000qgwd', 'us7000pxy6', 'us7000pw6p', 'us6000pyev', 'us6000pvth', 'us6000pvux', 'us7000pf18', 'us7000pdsm', 'us7000pdrz', 'us7000pds7', 'us7000pc83', 'us7000pc7k', 'us7000pdrb', 'us7000pc7i', 'us7000pb1l', 'us6000pmkr'], 'Cayman Islands': ['us6000q4ee', 'us6000pyfk', 'us6000pwju', 'us6000pv78', 'us7000pfpx', 'us6000pwmh', 'us7000pcgc', 'us7000pce1', 'us7000pcdw', 'us7000pce3', 'us7000pcdl', 'us7000pc8j'], 'Chad': ['us6000qjvj', 'us7000q1b1'], 'Chagos Archipelago region': ['us7000pw54', 'us6000q5i1', 'us7000pny8', 'us6000pyuc', 'us6000px4p', 'us6000pyej', 'us6000pyee', 'us7000pdzz', 'us7000pbib', 'us6000pkck'], 'Chile': ['us6000qkjt', 'us6000qkhr', 'us6000qkfl', 'us6000qjpw', 'us6000qj2v', 'us6000qiu3', 'us6000qiqd', 'us6000qiln', 'us6000qigd', 'us6000qhsr', 'us6000qhmb', 'us6000qgui', 'us6000qglj', 'us6000qgjn', 'us7000q1jb', 'us7000q1hb', 'us7000q1h3', 'us7000q12c', 'us7000q0zp', 'us7000q0hu', 'us7000q0gy', 'us7000q09n', 'us7000q08u', 'us7000q01w', 'us7000pzyb', 'us7000pysp', 'us6000qg7g', 'us7000pyiu', 'us7000pydt', 'us7000pyb2', 'us7000py5b', 'us7000pxvf', 'us7000pxur', 'us7000pxud', 'us7000pxi5', 'us7000pxfw', 'us7000px85', 'us7000px6k', 'us7000px56', 'us7000px3w', 'us7000px3i', 'us7000px3e', 'us7000pwxk', 'us7000pwuy', 'us7000pwml', 'us7000pwju', 'us7000pwiv', 'us7000pwa7', 'us7000pw5b', 'us7000pw17', 'us7000pw16', 'us7000pvsr', 'us7000pvrq', 'us7000pviq', 'us7000pvg1', 'us7000pv9r', 'us7000pv1p', 'us7000pur7', 'us7000pun2', 'us7000pumj', 'us7000puhb', 'us7000puff', 'us7000pucf', 'us7000pu78', 'us7000pu4z', 'us6000q7dw', 'us6000q7cp', 'us6000q7bs', 'us6000q730', 'us6000q723', 'us6000q720', 'us6000q6xh', 'us6000q6ey', 'us6000q64k', 'us6000q623', 'us6000q5x5', 'us6000q5sj', 'us6000q5nv', 'us6000q5m7', 'us6000q5hi', 'us6000q5d6', 'us6000q54q', 'us6000q53h', 'us6000q50f', 'us6000q4uw', 'us6000q4ui', 'us6000q48b', 'us6000q482', 'us6000q3wt', 'us6000q3wf', 'us6000q3v6', 'us6000q3t7', 'us6000q3kx', 'us7000pp2r', 'us7000pp0k', 'us7000pntb', 'us7000pnpt', 'us7000pnk3', 'us7000pnjq', 'us7000pmqb', ...], 'China': ['us6000qkfb', 'us6000qhzg', 'us6000qhcd', 'us6000qh7q', 'us6000qh1p', 'us6000qi60', 'us7000q0k4', 'us7000q0dn', 'us7000q078', 'us7000q01q', 'us7000q00n', 'us7000pzjr', 'us7000pzi1', 'us7000pyxb', 'us7000pyq7', 'us7000pyjd', 'us7000py51', 'us7000py37', 'us7000px1b', 'us7000pvht', 'us7000pvaf', 'us7000pv6f', 'us7000puj0', 'us6000q7ge', 'us6000q7eb', 'us6000q770', 'us6000q6me', 'us7000pvx4', 'us6000q5s2', 'us7000pu94', 'us6000q4hb', 'us6000q5yk', 'us6000q5yi', 'us7000pnxl', 'us7000pntt', 'us7000pnl4', 'us7000pmjv', 'us7000pmg7', 'us7000pm7w', 'us7000pn3i', 'us6000pzk0', 'us6000pz7y', 'us7000plnb', 'us6000pyqi', 'us6000pyj5', 'us6000pzlf', 'us6000px0n', 'us6000pwfj', 'us6000pwej', 'us6000pvs1', 'us6000pvry', 'us6000pw46', 'us6000pw3t', 'us7000pexp', 'us7000pcg9', 'us7000pbcv', 'us7000pbbc', 'us6000pmq8', 'us6000pmay', 'us6000pm9x', 'us7000pb1r', 'us6000plrd', 'us7000pacn', 'us6000pl82', 'us6000pl54', 'us6000pl4q', 'us6000pl22', 'us6000pl00', 'us6000pkan', 'us6000pk5z', 'us6000pjxx', 'us6000pllz', 'us6000pj8x', 'us6000pj5q', 'us6000pllr', 'us6000pllh'], 'Colombia': ['us6000qj2c', 'us6000qizg', 'us6000qiys', 'us6000qiy2', 'us6000qixr', 'us6000qilg', 'us7000q10j', 'us7000pzz7', 'us7000pymq', 'us7000px4d', 'us7000pumw', 'us7000pum1', 'us6000q6zz', 'us6000q6zq', 'us6000q4wr', 'us6000q6rh', 'us7000pp5r', 'us7000pmup', 'us6000q3rc', 'us6000q3pn', 'us6000pz0i', 'us6000pxx4', 'us6000px4q', 'us6000pw9c', 'us7000pex2', 'us7000pe90', 'us7000pd4n', 'us7000pbxz', 'us7000p9zc', 'us6000pmsg', 'us6000pmg0', 'us6000pl25', 'us6000pj4s'], 'Costa Rica': ['us6000qim8', 'us6000qi7q', 'us7000pz5u', 'us7000q0up', 'us6000q7a1', 'us6000q5ue', 'us6000q4qw', 'us6000pwri', 'us7000pflk', 'us7000pfcj', 'us7000pel7', 'us6000pjeu'], 'Croatia': ['us6000pvby', 'us7000pcwq'], 'Democratic Republic of the Congo': ['us7000q01z', 'us7000q0dm'], 'Dominica': ['us7000pms4'], 'Dominican Republic': ['pr2025165001', 'us6000qk8s', 'us6000qjqj', 'pr2025157001', 'us7000py6n', 'pr2025119001', 'us7000pvq8', 'pr2025108001', 'pr2025078002', 'us7000pn4a', 'pr2025068000', 'pr2025061003', 'pr2025061002', 'pr2025059001', 'pr2025056002', 'pr2025047000', 'us7000pb0a', 'pr2025025000'], 'Drake Passage': ['us7000px0y', 'us7000px5q', 'us6000pyb1'], 'Easter Island region': ['us6000qi5p', 'us7000q13h', 'us6000q526', 'us7000pn66', 'us7000pm89', 'us6000pyf6', 'us7000pfqd', 'us6000pwmj', 'us6000pl89', 'us7000pa2l', 'us7000pa2c', 'us7000p9vb'], 'Ecuador': ['us6000qkrr', 'us6000qkr0', 'us6000qk7i', 'us7000q1rn', 'us7000pyg8', 'us7000pyez', 'us7000pxkc', 'us7000px81', 'us7000pwwy', 'us7000pv06', 'us6000q75b', 'us6000q6cg', 'us6000q5um', 'us6000pxlb', 'us7000pfks', 'us7000pbgl', 'us7000pb6s', 'us7000pam3', 'us7000palx', 'us7000pajt', 'us7000pahy', 'us7000pa4m', 'us6000pjxc', 'us6000pjm2'], 'Ecuador region': ['us7000pw5p', 'us7000pdqz'], 'El Salvador': ['us6000qj8g', 'us6000qgpv', 'us6000qgai', 'us7000q1hl', 'us7000q0vi', 'us7000pz6y', 'us7000pygb', 'us7000py0z', 'us7000pv0u', 'us6000q57p', 'us7000pm6s', 'us6000pzy8', 'us6000pzpd', 'us6000pyfy', 'us6000pxkc', 'us6000pvsq', 'us6000px9g', 'us7000pe34', 'us7000pe2z', 'us6000pv5k', 'us7000pc16', 'us7000pate', 'us6000pl1r'], 'Eritrea': ['us6000pwmb'], 'Ethiopia': ['us6000q56m', 'us6000pzb4', 'us6000pz82', 'us6000pz7g', 'us6000pwjr', 'us6000pwhp', 'us6000pwge', 'us6000pwew', 'us6000py5e', 'us6000pvs4', 'us6000px9k', 'us7000pfq1', 'us6000px1g', 'us7000pfss', 'us7000pfpk', 'us6000pw2a', 'us6000pw25', 'us7000pdu6', 'us7000pd3b', 'us7000pc2k', 'us7000pc2b', 'us7000pbaq', 'us7000pd6m', 'us7000pd68', 'us7000pd67', 'us7000pd65', 'us7000pd73', 'us7000paqb', 'us7000pc3p', 'us7000pc45', 'us7000pc46', 'us7000pc3n', 'us7000p9p0', 'us6000pmiy', 'us6000pm1j', 'us6000pm7l', 'us6000pm1e', 'us7000paes', 'us7000paeq', 'us6000plyr', 'us6000plte', 'us7000padi', 'us6000plrr', 'us7000pae5', 'us7000pad8', 'us7000pae4', 'us7000pae3', 'us7000padh', 'us6000plra', 'us6000plr5', 'us7000pad3', 'us7000padz', 'us7000pae0', 'us7000pae1', 'us7000pad5', 'us7000pad2', 'us6000pli7', 'us6000pl7y', 'us7000pa28', 'us7000pa1v', 'us6000pl5h', 'us7000p9vj', 'us7000p9vi', 'us7000p9vl', 'us7000p9uy', 'us7000p9mi', 'us6000pmlk', 'us6000pmli', 'us6000pkpl', 'us6000pmkx', 'us6000pmkw', 'us6000pkjx', 'us6000pkih', 'us6000pkbw', 'us6000pm4r', 'us6000pkbv', 'us6000pm3f', 'us6000pk1q', 'us6000pm2m', 'us6000pm2l', 'us6000pjx5', 'us6000pm32', 'us6000pm2a', 'us6000pjuu', 'us6000pjsw', 'us6000plv2', 'us6000plvi', 'us6000plv0', 'us6000pluy', 'us6000pjnm', 'us6000pluf', 'us6000plud', 'us6000pjl6', 'us6000pjkx', 'us6000pjjv', 'us6000pjjs', 'us6000pltr', 'us6000pji9', 'us6000pjhq', 'us6000pltk', ...], 'Federated States of Micronesia': ['us7000q1aj'], 'Federated States of Micronesia region': ['us7000pe5b'], 'Fiji': ['us6000qh7h', 'us6000qk3l', 'us6000qjw6', 'us6000qgwy', 'us7000pz2m', 'us7000q1m0', 'us7000pyg3', 'us7000q1k8', 'us7000q1jk', 'us7000pzmd', 'us7000pvj1', 'us7000pz71', 'us7000py0e', 'us7000pxzv', 'us6000q7j5', 'us7000pwni', 'us7000pwlg', 'us7000pvk5', 'us7000pvk3', 'us6000q5mm', 'us7000pv1s', 'us7000puii', 'us6000q4uh', 'us6000q4j3', 'us6000q6il', 'us6000q3we', 'us6000q663', 'us6000q5fh', 'us6000q5ew', 'us7000pnkr', 'us6000q3zu', 'us6000q3zg', 'us6000q3r0', 'us7000pmgb', 'us7000pm16', 'us7000pm09', 'us7000pp9n', 'us6000pzwy', 'us6000pztt', 'us7000pn39', 'us6000pze7', 'us6000pz1w', 'us6000pyt9', 'us6000pyqg', 'us7000plcu', 'us6000pyvy', 'us6000pyu8', 'us6000pyu3', 'us6000pymr', 'us6000pwg3', 'us6000pwcw', 'us6000pxyr', 'us6000pxab', 'us6000pvda', 'us6000pwt4', 'us7000pebj', 'us7000pe49', 'us7000pe21', 'us7000pf1h', 'us7000pd21', 'us7000pd20', 'us7000pdsh', 'us7000pc21', 'us7000pbr3', 'us7000p9wv', 'us7000pbll', 'us6000pms1', 'us6000pmmd', 'us6000pmmf', 'us6000plip', 'us6000pl6x', 'us7000p9mp', 'us7000p9lq', 'us6000pm4q', 'us6000pjqd', 'us6000pjk4', 'us6000pj63'], 'Fiji region': ['us6000qjgf', 'us6000qjbx', 'us6000qi9v', 'us6000qjk0', 'us7000q16w', 'us7000q11p', 'us7000q0eg', 'us6000qhfn', 'us6000qglw', 'us7000q1kj', 'us7000pycn', 'us7000q144', 'us7000pxxi', 'us7000pxu9', 'us7000pzmr', 'us7000pw9p', 'us7000pzes', 'us7000pzey', 'us7000pzdv', 'us7000pzde', 'us7000pyvb', 'us6000q77p', 'us7000pwnw', 'us7000pwm3', 'us6000q6df', 'us7000putv', 'us7000putq', 'us6000q4v8', 'us6000q6tz', 'us6000q6tv', 'us6000q49v', 'us7000ppae', 'us6000q5el', 'us6000q4yd', 'us7000pnif', 'us7000pmpv', 'us7000pmgw', 'us7000pmdz', 'us7000pneg', 'us7000pn3r', 'us6000pz6u', 'us7000pmir', 'us6000pz30', 'us6000pytl', 'us6000pyla', 'us6000pxzb', 'us6000pwa9', 'us6000pxf4', 'us6000pvqp', 'us6000px7u', 'us6000px1n', 'us7000pf3d', 'us7000peek', 'us6000pvdv', 'us7000pe4v', 'us7000pe3e', 'us7000pdig', 'us7000pf14', 'us7000pckn', 'us7000pdq0', 'us7000pbzh', 'us7000pat6', 'us6000pms2', 'us6000pm80', 'us7000paf0', 'us6000pm0p', 'us6000plwe', 'us6000plfj', 'us6000pkwe', 'us7000p9lw', 'us6000pm2g'], 'Georgia': ['us6000pxme'], 'Greece': ['us6000qkni', 'us6000qj9n', 'us6000qiqq', 'us6000qiq1', 'us6000qidl', 'us6000qi2m', 'us6000qhma', 'us6000qgv0', 'us6000qg8n', 'us7000q1nc', 'us7000q0pq', 'us7000q02x', 'us7000pzze', 'us7000pzzb', 'us7000pzx1', 'us7000pz2p', 'us7000pyx9', 'us7000pyr9', 'us7000q1ju', 'us7000px4q', 'us7000px4a', 'us7000pwc4', 'us7000pw15', 'us6000q7d0', 'us6000q79q', 'us7000pwmd', 'us6000q5ui', 'us6000q5nz', 'us6000q4f3', 'us6000q3m6', 'us7000pnwe', 'us7000pn53', 'us6000q3qx', 'us7000plv2', 'us7000plhm', 'us7000pmsu', 'us6000pz6e', 'us6000pyw2', 'us6000pyv0', 'us7000pln7', 'us6000py36', 'us6000pxy1', 'us6000pxq1', 'us6000pyl7', 'us6000px9y', 'us6000pv7z', 'us7000pfs8', 'us7000pfpz', 'us7000pf23', 'us7000pepv', 'us7000penp', 'us7000peij', 'us6000pvmx', 'us7000pefy', 'us7000pefq', 'us7000peff', 'us7000pe91', 'us7000pe8q', 'us7000pe7k', 'us7000pe7i', 'us7000pe5s', 'us7000pe5c', 'us6000pv62', 'us7000pdzt', 'us7000pf9w', 'us7000pf9i', 'us7000pdu1', 'us7000pdp7', 'us7000pde0', 'us7000pddy', 'us7000pd9b', 'us7000pd9a', 'us7000pd8n', 'us7000pd7j', 'us7000pd4h', 'us7000pd35', 'us7000pezy', 'us7000pf0h', 'us7000pd31', 'us7000pf0g', 'us7000pd30', 'us7000pezu', 'us7000pd2y', 'us7000pd2x', 'us7000pf11', 'us7000pezs', 'us7000pd2t', 'us7000pd26', 'us7000pd1v', 'us7000pezc', 'us7000pd1u', 'us7000pd1t', 'us7000pd1n', 'us7000pd1i', 'us7000pd1f', 'us7000pd03', 'us7000pcwn', 'us7000pcvx', 'us7000pcvr', 'us7000pet2', ...], 'Greenland Sea': ['us6000qk3m', 'us6000qgd4', 'us7000py1f', 'us7000pp5e'], 'Guadeloupe': ['us6000pwq0'], 'Guam': ['us6000qiv6', 'us6000qis7', 'us6000qgeq', 'us6000qjns', 'us7000q1s4', 'us7000q1pq', 'us6000qjks', 'us6000qjkq', 'us6000qjkk', 'us7000q1hq', 'us6000qhqb', 'us7000pzcm', 'us7000pvh5', 'us7000pz0j', 'us7000pya7', 'us6000q7fi', 'us7000pvwi', 'us6000q5na', 'us6000q53j', 'us6000q6rc', 'us6000q6j3', 'us6000q6j4', 'us6000q66m', 'us7000ppgp', 'us7000ppgj', 'us7000pm9h', 'us6000pyvb', 'us6000pwpg', 'us6000pwn3', 'us6000pwbj', 'us6000pxf8', 'us6000pw3p', 'us6000pw3m', 'us7000pezb', 'us7000pejm', 'us7000pcpu', 'us7000pbi7', 'us7000pbia', 'us7000pbhd', 'us7000pbha', 'us6000pm11', 'us7000padr', 'us6000plsn', 'us6000plnt', 'us7000pacc', 'us6000pldf', 'us6000pmlg', 'us6000pm55', 'us6000pm2p', 'us6000plvh', 'us6000pln2', 'us6000pjed'], 'Guatemala': ['us6000qibj', 'us7000q1ql', 'us7000q1j2', 'us6000qhn4', 'us7000pytk', 'us7000pysg', 'us6000q772', 'us6000pz2y', 'us6000pyuq', 'us6000pw7t', 'us6000pw7c', 'us6000pw5z', 'us6000pvpg', 'us7000pebq', 'us7000pe58', 'us7000pe1b', 'us7000pclr', 'us7000pbqa', 'us7000pbjy', 'us7000pbfs', 'us7000pbfb', 'us6000plr3', 'us6000pmll'], 'Hawaii': ['hv74676927', 'hv74634117'], 'Honduras': ['us6000qj2a', 'us6000qiwx', 'us7000pzup', 'us6000pyzt', 'us6000pymn', 'us6000pwyn', 'us7000pf94', 'us7000pdkn', 'us7000pd93', 'us7000pcs6', 'us7000pcjy', 'us7000pcgn', 'us7000pe9s', 'us7000pcdu', 'us7000pann', 'us7000pac3'], 'Iceland': ['us6000qj6s', 'us7000q1ae', 'us7000q1ad', 'us7000q1a9', 'us6000qgmh', 'us7000pz4h', 'us7000pyxt', 'us7000pxd6', 'us7000q0kr', 'us6000q639', 'us7000ppa5', 'us7000ppa1', 'us7000ppa0', 'us7000pfi9', 'us6000pjw8', 'us6000pjw6', 'us6000pjvv', 'us6000pjvs'], 'Iceland region': ['us7000q1l3', 'us7000pbup'], 'Idaho': ['us6000qiz0', 'us6000pmkg'], 'India': ['us6000qkjz', 'us6000qi2j', 'us6000qju8', 'us6000qg9r', 'us6000qgly', 'us7000pzmx', 'us7000pvhl', 'us6000q5cs', 'us6000q548', 'us7000pp84', 'us6000q56x', 'us6000q4rz', 'us7000pm6h', 'us6000q3ny', 'us6000q3p6', 'us7000pm5l', 'us7000pm5g', 'us7000pn3v', 'us6000pzix', 'us6000pzed', 'us6000pyqh', 'us6000pyp3', 'us6000pybb', 'us6000pxru', 'us6000pwzr', 'us6000pwz6', 'us6000pyem', 'us6000pw15', 'us6000pvpc', 'us6000pv8n', 'us6000pwme', 'us7000pewd', 'us7000pe5z', 'us7000pcnh', 'us7000pc5t', 'us7000pc5s', 'us7000pc3s', 'us6000plwf', 'us6000plmk', 'us6000pll1', 'us6000plds', 'us6000plaw', 'us6000pl6c', 'us6000pkzi'], 'India region': ['us7000pyzr', 'us6000q5eb', 'us6000q55w', 'us6000q3r8', 'us7000pmhv', 'us6000pyak', 'us6000py97', 'us6000pl7i', 'us6000pl7f'], 'Indian Ocean Triple Junction': ['us6000qi7t', 'us7000pzl0', 'us7000pxaf', 'us7000pusr', 'us7000pndv', 'us7000pnd7', 'us7000pn4k', 'us7000pn4l'], 'Indonesia': ['us6000qkrl', 'us6000qkij', 'us6000qkh3', 'us6000qkgx', 'us6000qkg5', 'us6000qk0d', 'us6000qjtm', 'us6000qjsf', 'us6000qjqz', 'us6000qjjd', 'us6000qjg5', 'us6000qj73', 'us6000qiwc', 'us6000qivz', 'us6000qinl', 'us6000qii9', 'us6000qie5', 'us6000qics', 'us6000qibk', 'us6000qib4', 'us6000qi9e', 'us6000qi4k', 'us6000qhwm', 'us6000qhwa', 'us6000qhub', 'us6000qhni', 'us6000qhlq', 'us6000qhe7', 'us6000qhci', 'us6000qh9v', 'us6000qh6d', 'us6000qh48', 'us6000qh3d', 'us6000qh3a', 'us6000qh2b', 'us6000qh0w', 'us6000qgu5', 'us6000qk3j', 'us6000qgk0', 'us6000qgjv', 'us6000qgjc', 'us6000qgil', 'us6000qjuf', 'us7000q1rm', 'us7000q1qx', 'us7000q1qf', 'us7000q1ni', 'us6000qjkd', 'us7000q1h0', 'us7000q1eb', 'us7000q16m', 'us7000q16a', 'us6000qi7h', 'us6000qi77', 'us7000q0z6', 'us7000q0w7', 'us7000q0tc', 'us7000q0sf', 'us7000q0k5', 'us7000q0iv', 'us6000qi5m', 'us7000q0hr', 'us7000q08l', 'us7000q04f', 'us7000q044', 'us6000qhmq', 'us6000qhmn', 'us7000q035', 'us7000pzyt', 'us7000pzyd', 'us7000pzwb', 'us6000qgwj', 'us7000pzjw', 'us7000pzg2', 'us6000qgpq', 'us7000pzcu', 'us6000qgnx', 'us7000pz57', 'us6000qglt', 'us7000pz3s', 'us6000qgfr', 'us7000pyy2', 'us7000pyvj', 'us7000pyul', 'us7000pyrf', 'us7000pymn', 'us7000pyjn', 'us7000pyf9', 'us7000pyea', 'us7000py8f', 'us7000py5d', 'us7000pxzh', 'us7000pxyj', 'us7000pxwm', 'us7000pxru', 'us7000pxq4', 'us7000pxne', 'us7000pxmz', 'us7000q0ua', 'us7000q0u9', ...], 'Iran': ['us6000qhcb', 'us6000qgs4', 'us6000qgic', 'us6000qjnl', 'us7000q1nh', 'us7000q19d', 'us7000pzbp', 'us7000pxwi', 'us7000pxvp', 'us7000pwa3', 'us6000q7j8', 'us6000q4cy', 'us6000q4c8', 'us6000q495', 'us6000q3va', 'us6000q3p0', 'us6000q3yu', 'us7000pm7v', 'us7000plxt', 'us7000plje', 'us7000plip', 'us7000plg2', 'us6000pxxc', 'us6000pzdb', 'us6000pxnm', 'us6000pyvm', 'us6000pwpl', 'us6000pwk7', 'us6000pwbm', 'us6000pwal', 'us6000pvkv', 'us7000pe4x', 'us6000pv6k', 'us7000pckx', 'us7000pbn6', 'us7000pbg8', 'us7000pb8a', 'us7000pc5c', 'us7000pahk', 'us7000pa8l', 'us7000pa15', 'us7000pa1j', 'us7000pa0b', 'us6000pmhp', 'us6000pmgf', 'us6000pm3b', 'us6000plru', 'us6000plhv', 'us7000p9ux', 'us6000pl0x', 'us7000p9mv', 'us6000pmkl', 'us6000pm58', 'us6000pkiv', 'us6000pki5', 'us6000pm2s', 'us6000pjsj', 'us6000plun', 'us6000plmy', 'us6000pj9l', 'us6000pj3g'], 'Italy': ['us6000q6cn', 'us6000pzjc', 'us6000pywp', 'us6000pyh6', 'us6000pvns', 'us7000pehc', 'us7000pc4p', 'us7000pbtb', 'us7000pbac'], 'Japan': ['us6000qkqx', 'us6000qk9r', 'us6000qk1a', 'us6000qjy5', 'us6000qjwg', 'us6000qjqx', 'us6000qjiw', 'us6000qjen', 'us6000qiqh', 'us6000qip1', 'us6000qimm', 'us6000qijq', 'us6000qi4w', 'us6000qhze', 'us6000qhyp', 'us6000qhxv', 'us6000qhpn', 'us6000qhnr', 'us6000qhm7', 'us6000qhdi', 'us6000qhc1', 'us6000qhag', 'us6000qhaf', 'us6000qh96', 'us6000qh38', 'us6000qh2r', 'us6000qh2g', 'us6000qh1w', 'us6000qh1r', 'us6000qgyt', 'us6000qgyd', 'us6000qgxz', 'us6000qgx4', 'us6000qgss', 'us6000qjvi', 'us7000q1rx', 'us6000qjnx', 'us7000q1l0', 'us7000q1kp', 'us7000q1ib', 'us7000q1gp', 'us7000q12t', 'us7000q0yk', 'us6000qi67', 'us7000q0he', 'us6000qhq6', 'us6000qhpq', 'us7000q03j', 'us7000q03c', 'us7000pzxj', 'us7000pzk2', 'us7000pzcn', 'us7000pzae', 'us7000pz7x', 'us6000qgfz', 'us6000qgfs', 'us7000pyxl', 'us6000qg8d', 'us7000pywr', 'us7000pytm', 'us7000pyq9', 'us7000pyev', 'us7000py5i', 'us7000q13r', 'us7000py5c', 'us7000q13q', 'us7000q0v1', 'us7000pxpc', 'us7000pxmb', 'us7000pxgj', 'us7000px58', 'us7000px43', 'us7000q0ct', 'us7000q0cq', 'us7000px0j', 'us7000pwhs', 'us7000pzdw', 'us7000pzdr', 'us7000pvi0', 'us7000pz02', 'us7000pz04', 'us7000pv6a', 'us7000pv57', 'us7000pumd', 'us7000pudy', 'us7000pudb', 'us7000pucw', 'us7000pu4p', 'us7000pu1w', 'us7000pu18', 'us6000q7jk', 'us6000q7ck', 'us6000q73j', 'us6000q714', 'us6000q706', 'us6000q6xf', 'us6000q6vp', 'us6000q6mb', 'us7000pw5z', 'us6000q624', ...], 'Japan region': ['us6000qk7w', 'us6000qk04', 'us6000qjp0', 'us6000qi9k', 'us6000qhu1', 'us6000qh2e', 'us6000qi7u', 'us7000q0in', 'us7000q01y', 'us6000qgvu', 'us7000pzig', 'us7000pyzs', 'us6000qgff', 'us6000qg80', 'us7000q0v6', 'us7000q0v5', 'us7000q0dd', 'us7000px20', 'us7000px0q', 'us7000q06p', 'us7000pwms', 'us7000pwkh', 'us7000pzel', 'us7000pz05', 'us7000pv9v', 'us7000py00', 'us7000py03', 'us7000pwm0', 'us7000pvks', 'us7000pvjv', 'us6000q4vq', 'us7000ppcw', 'us6000q5ei', 'us6000q566', 'us6000q3rd', 'us6000pzpt', 'us6000pzf8', 'us6000pxti', 'us6000pxgk', 'us6000pxfb', 'us6000pvli', 'us6000px7m', 'us7000pfm6', 'us6000pw3l', 'us7000pf4t', 'us7000pecw', 'us7000pfa3', 'us7000pdpi', 'us7000pd1l', 'us7000pcgk', 'us7000pdrh', 'us7000pc3f', 'us7000pbvh', 'us7000pa0x', 'us7000pbve', 'us7000pb1x', 'us6000pm8m', 'us7000paem', 'us7000pacp', 'us6000pljb', 'us7000pa4y', 'us7000p9v3', 'us6000pkfw', 'us6000plvk', 'us6000pjn8', 'us6000pjlb', 'us6000pjkq'], 'Kazakhstan': ['us7000q11r', 'us7000pyiv', 'us7000pu3y', 'us6000q7b7', 'us7000pnbm', 'us7000pn6j', 'us6000py8e', 'us6000py14', 'us6000pxku', 'us7000pasf'], 'Kermadec Islands region': ['us6000qj38', 'us6000qhjw', 'us6000qhgx', 'us6000qhba', 'us6000qh8y', 'us6000qh5j', 'us6000qh59', 'us6000qh4z', 'us6000qh40', 'us6000qh3i', 'us6000qh35', 'us6000qjkp', 'us7000q08z', 'us7000pzq5', 'us7000q1lt', 'us7000q14f', 'us7000q0ur', 'us7000pxdh', 'us7000px8w', 'us7000px8u', 'us7000pwzg', 'us7000pwvi', 'us7000q06b', 'us7000pzl2', 'us7000pzkj', 'us7000pze5', 'us7000pzdq', 'us7000pzdp', 'us7000pvw9', 'us7000pvtd', 'us7000pvta', 'us7000pz0e', 'us7000pvax', 'us7000pxrc', 'us6000q7gy', 'us6000q73u', 'us6000q70e', 'us7000pw4i', 'us7000pvwg', 'us6000q5sv', 'us7000pv2c', 'us7000pu9k', 'us6000q6jj', 'us6000q3ti', 'us6000q5fu', 'us6000q5f7', 'us6000q4y0', 'us7000pnqc', 'us6000q3zc', 'us7000pm0h', 'us7000plww', 'us7000pnep', 'us7000pmsy', 'us7000pma7', 'us7000pln2', 'us6000pymf', 'us6000pyll', 'us6000pwsi', 'us6000pws0', 'us6000pxfs', 'us6000pvrl', 'us7000pej4', 'us7000pdr6', 'us7000pdqm', 'us7000pdmf', 'us7000pc3l', 'us7000p9zh', 'us7000pbv6', 'us6000pmqw', 'us6000pmm9', 'us7000pacm', 'us6000plh8', 'us6000pm3r'], 'Kuril Islands': ['us6000qk4v', 'us6000qidu', 'us6000qgsq', 'us7000pwrm', 'us7000pvwb', 'us7000pvvt', 'us6000q5xd', 'us7000pllr', 'us6000pvl5', 'us6000pvur', 'us7000pdzm', 'us7000pbxx', 'us7000pdm9', 'us7000pbcy', 'us7000pcpl', 'us6000pk2c', 'us6000plly'], 'Kuwait': ['us6000pz09'], 'Kyrgyzstan': ['us6000qim1', 'us7000pysa', 'us7000pyr4', 'us7000pxg8', 'us6000q603', 'us6000pzr7', 'us6000py8n'], 'Libya': ['us7000pyg2', 'us6000pj3b'], 'MX': ['ci41034376'], 'Macquarie Island region': ['us7000py39', 'us7000pvxu', 'us7000pzdm', 'us7000pvtr', 'us6000pl09', 'us6000pj49'], 'Madagascar': ['us6000pxu4', 'us7000pa2a'], 'Malawi': ['us7000plnl', 'us7000plnr', 'us7000pa0q'], 'Mariana Islands region': ['us6000qj0b', 'us6000qicf', 'us6000q717', 'us6000q6id', 'us6000q6ic', 'us6000q6ie', 'us6000q48f', 'us6000q48i', 'us7000pnig', 'us7000pn2v', 'us6000pz66', 'us6000pylv', 'us6000px7x', 'us7000pf9m', 'us7000pdm4', 'us7000p9nd', 'us6000plmu'], 'Martinique': ['us6000qidh', 'us7000pmfx', 'us6000pwis'], 'Mauritius': ['us6000qihn', 'us7000py4w'], 'Mauritius - Reunion region': ['us7000q0e7', 'us6000pyld', 'us7000pa6w'], 'Mexico': ['us6000qkq2', 'us6000qji4', 'us6000qi1q', 'us6000qhye', 'us6000qhix', 'us6000qhez', 'us6000qhbf', 'us7000q0r0', 'us7000q0ah', 'us7000pztr', 'us7000pzkc', 'us7000pzhs', 'us7000pz23', 'us7000pyr1', 'us7000px7i', 'us7000pwdx', 'us7000pxhq', 'us6000q72t', 'us6000q6zg', 'us6000q6du', 'us6000q5ds', 'us6000q516', 'us6000q43s', 'us7000pn6k', 'us6000q43p', 'us6000pyyq', 'us6000q438', 'us6000pxi9', 'us6000px0a', 'us6000pwe1', 'us6000pw5b', 'us6000pwmc', 'us7000pfcg', 'us7000pe75', 'us7000pdpc', 'us7000pdnl', 'us7000pb7b', 'us7000pak3', 'us7000pbwp', 'us6000pmr8', 'us7000pbwi', 'us7000pa4p', 'us6000plfb', 'us7000p9uv', 'us7000p9n1', 'us6000plu2', 'us6000pjjf', 'us6000pjiy', 'us6000pjig', 'us6000pjhp', 'us6000pje4', 'us6000pjd4'], 'Micronesia': ['us7000py1c', 'us7000pxa7', 'us6000q6kv', 'us7000ppgr', 'us6000pzk6', 'us7000pm9r', 'us6000pzs6', 'us6000pxf1', 'us7000pcq8', 'us7000pbld', 'us7000pb9l'], 'Mid-Indian Ridge': ['us6000qkjl', 'us6000qinr', 'us6000qime', 'us6000qil2', 'us6000qi6v', 'us7000pz5p', 'us7000pxul', 'us7000pxvz', 'us7000q0uy', 'us7000pxpf', 'us7000pya8', 'us6000q6by', 'us7000pw4c', 'us7000pvkj', 'us6000q4zx', 'us7000pu9p', 'us7000pu9y', 'us7000pu9n', 'us6000q6sj', 'us6000q6gm', 'us6000q56j', 'us7000pnm9', 'us7000pph1', 'us7000plg5', 'us7000plf7', 'us7000pmsr', 'us6000py5x', 'us6000pwg6', 'us6000px1l', 'us7000pf2m', 'us6000pw2m', 'us6000pw2k', 'us6000pw28', 'us7000pevy', 'us7000pfah', 'us7000pez5', 'us7000pctm', 'us6000pj5g'], 'Mongolia': ['us6000q60e', 'us7000pljf', 'us7000pf0f'], 'Montenegro': ['us6000pm1c'], 'Morocco': ['us7000pcsb'], 'Nepal': ['us6000qj9m', 'us7000q10f', 'us7000q0xq', 'us7000q057', 'us7000pvip', 'us6000q7gc', 'us6000q6bv', 'us6000q5cj', 'us6000q522', 'us6000q6rl', 'us6000q66t', 'us6000q3xs', 'us7000ppd4', 'us7000pmrh', 'us7000pmqt', 'us6000py3e', 'us6000pzsi', 'us6000pzcx', 'us6000pxlv', 'us6000pwry', 'us6000pvwf', 'us7000pf75', 'us7000pe20', 'us7000pchl', 'us7000parm', 'us6000pmj5', 'us7000p9v7', 'us6000plux', 'us6000pltw', 'us6000plmc'], 'New Caledonia': ['us6000qj6p', 'us6000qg81', 'us7000q1ld', 'us7000pyv8', 'us7000pv5c', 'us7000pljl', 'us7000plcf', 'us6000pzsf', 'us6000pw2l', 'us6000plk7', 'us6000pluk'], 'New Mexico': ['tx2025iqwk', 'tx2025ehit', 'tx2025dkql'], 'New Zealand': ['us6000qjry', 'us6000qiq5', 'us6000qi8c', 'us6000qhrt', 'us6000qhmj', 'us6000qgth', 'us6000qgju', 'us6000qgi9', 'us7000q1f3', 'us6000qi6l', 'us7000q0p6', 'us7000q0i2', 'us7000q040', 'us6000qhfv', 'us6000qhfl', 'us7000pzit', 'us6000qgg1', 'us6000qgfv', 'us7000px72', 'us7000q0dl', 'us7000q0db', 'us7000pwze', 'us7000q06x', 'us7000q06q', 'us7000pzl4', 'us7000pvxr', 'us7000pvt7', 'us7000pvcg', 'us7000pugf', 'us6000q754', 'us6000q73f', 'us6000q5wi', 'us6000q4fl', 'us6000q4e1', 'us6000q4dj', 'us6000q66r', 'us7000pp8y', 'us7000pnfe', 'us7000pmyk', 'us7000pmwp', 'us7000pml0', 'us7000pmgv', 'us7000pmfn', 'us7000pmfb', 'us7000pmey', 'us7000pmem', 'us7000plea', 'us7000pnd4', 'us7000pn3u', 'us6000pz95', 'us7000pmji', 'us7000pma0', 'us6000pyxi', 'us6000pxhf', 'us6000pxez', 'us6000px70', 'us6000px2v', 'us6000px2t', 'us6000px2i', 'us6000pwzl', 'us6000pwfl', 'us6000pwce', 'us6000pxzl', 'us6000pwca', 'us6000pw31', 'us6000pxg5', 'us6000pvqi', 'us6000pveh', 'us7000pdpt', 'us7000pek4', 'us7000pea4', 'us7000pdq4', 'us7000pbk9', 'us7000pdex', 'us7000pbdm', 'us7000palm', 'us7000pabn', 'us6000pmru', 'us6000pmrw', 'us7000pb9x', 'us6000pmc8', 'us7000pacl', 'us6000pl6i', 'us6000pl33', 'us6000pk2k'], 'Nicaragua': ['us6000qkef', 'us6000qgdh', 'us6000qgbp', 'us7000q016', 'us7000pygc', 'us6000q4jd', 'us6000q4ia', 'us6000q4dq', 'us6000q5yx', 'us6000q3l6', 'us6000pzn9', 'us6000pz8x', 'us6000pyjd', 'us6000py8v', 'us6000pxb4', 'us6000pxb7', 'us6000pwmg', 'us6000pwl7', 'us6000pw1b', 'us6000pw0c', 'us6000px81', 'us7000pdyg', 'us7000pcjt', 'us7000pafh', 'us7000pac0', 'us6000pjep'], 'North Atlantic Ocean': ['us7000q1cl', 'us6000q3k0'], 'North Korea': ['us7000pm6q'], 'Northern Mariana Islands': ['us6000qik3', 'us6000qhdj', 'us6000qh97', 'us6000qk44', 'us6000qj6g', 'us7000q0m6', 'us6000qhg7', 'us6000qhfx', 'us6000qgfu', 'us7000py9w', 'us7000q138', 'us7000px0x', 'us7000pwil', 'us7000pzkk', 'us7000pves', 'us7000pyv4', 'us7000py09', 'us7000pxzy', 'us7000pwmb', 'us7000putm', 'us6000q5aq', 'us6000q6tp', 'us6000q4hk', 'us6000q66a', 'us6000q3sh', 'us6000q5ft', 'us6000q4y4', 'us7000pncf', 'us6000q3zp', 'us6000q3ym', 'us6000pyzx', 'us6000pyd6', 'us6000pzlh', 'us6000pzl9', 'us6000pyvi', 'us6000pxd8', 'us6000pylm', 'us6000pyl9', 'us6000pwaz', 'us6000px9m', 'us6000pvnf', 'us6000pvea', 'us7000pf95', 'us7000peax', 'us7000pdsd', 'us7000pdn5', 'us7000pdet', 'us7000pa3j', 'us7000pbi8', 'us6000pmjt', 'us7000pbhb', 'us7000pbh5', 'us6000pmft', 'us6000plcp', 'us6000plc2', 'us7000pa2d', 'us6000pmkq', 'us6000pllw', 'us6000plla'], 'Norway': ['us6000pjkz'], 'Norwegian Sea': ['us7000p9vc'], 'Oman': ['us6000qkkj', 'us6000qkk0', 'us7000pzet', 'us7000pvdy', 'us7000pcri'], 'Oregon': ['us6000pm9b'], 'Owen Fracture Zone region': ['us6000qj7h', 'us6000pwtw', 'us7000pdsp', 'us6000pmc4'], ...}"
      ]
     },
     "execution_count": 16,
     "metadata": {},
     "output_type": "execute_result"
    }
   ],
   "source": [
    "gb.groups"
   ]
  },
  {
   "cell_type": "markdown",
   "metadata": {},
   "source": [
    "All of the groups are available as a dictionary via the `.groups` attribute:"
   ]
  },
  {
   "cell_type": "code",
   "execution_count": 17,
   "metadata": {},
   "outputs": [
    {
     "data": {
      "text/plain": [
       "194"
      ]
     },
     "execution_count": 17,
     "metadata": {},
     "output_type": "execute_result"
    }
   ],
   "source": [
    "groups = gb.groups\n",
    "len(groups)"
   ]
  },
  {
   "cell_type": "code",
   "execution_count": 19,
   "metadata": {},
   "outputs": [
    {
     "data": {
      "text/plain": [
       "dict_keys(['2025 Drake Passage Earthquake', 'Afghanistan', 'Alaska', 'Algeria', 'Anguilla', 'Antigua and Barbuda', 'Arctic Ocean', 'Argentina', 'Armenia', 'Ascension Island region', 'Australia', 'Azerbaijan', 'Azores Islands region', 'Bahamas', 'Balleny Islands region', 'Banda Sea', 'Barbados', 'Bolivia', 'Bosnia and Herzegovina', 'Brazil', 'Burma', 'Burma (Myanmar)', 'Burma (Myanmar) Earthquake', 'CA', 'Canada', 'Carlsberg Ridge', 'Cayman Islands', 'Chad', 'Chagos Archipelago region', 'Chile', 'China', 'Colombia', 'Costa Rica', 'Croatia', 'Democratic Republic of the Congo', 'Dominica', 'Dominican Republic', 'Drake Passage', 'Easter Island region', 'Ecuador', 'Ecuador region', 'El Salvador', 'Eritrea', 'Ethiopia', 'Federated States of Micronesia', 'Federated States of Micronesia region', 'Fiji', 'Fiji region', 'Georgia', 'Greece', 'Greenland Sea', 'Guadeloupe', 'Guam', 'Guatemala', 'Hawaii', 'Honduras', 'Iceland', 'Iceland region', 'Idaho', 'India', 'India region', 'Indian Ocean Triple Junction', 'Indonesia', 'Iran', 'Italy', 'Japan', 'Japan region', 'Kazakhstan', 'Kermadec Islands region', 'Kuril Islands', 'Kuwait', 'Kyrgyzstan', 'Libya', 'MX', 'Macquarie Island region', 'Madagascar', 'Malawi', 'Mariana Islands region', 'Martinique', 'Mauritius', 'Mauritius - Reunion region', 'Mexico', 'Micronesia', 'Mid-Indian Ridge', 'Mongolia', 'Montenegro', 'Morocco', 'Nepal', 'New Caledonia', 'New Mexico', 'New Zealand', 'Nicaragua', 'North Atlantic Ocean', 'North Korea', 'Northern Mariana Islands', 'Norway', 'Norwegian Sea', 'Oman', 'Oregon', 'Owen Fracture Zone region', 'Pacific-Antarctic Ridge', 'Pakistan', 'Palau', 'Panama', 'Papua New Guinea', 'Peru', 'Philippines', 'Poland', 'Portugal', 'Prince Edward Islands region', 'Puerto Rico', 'Qatar', 'Revilla Gigedo Islands region', 'Reykjanes Ridge', 'Romania', 'Russia', 'Rwanda', 'Saint Helena', 'Saint Kitts and Nevis', 'Samoa', 'Saudi Arabia', 'Scotia Sea', 'Solomon Islands', 'Somalia', 'South Africa', 'South Atlantic Ocean', 'South Georgia Island region', 'South Indian Ocean', 'South Sandwich Islands region', 'South Shetland Islands', 'Southern Tibetan Plateau', 'Southwest Indian Ridge', 'Svalbard and Jan Mayen', 'Taiwan', 'Tajikistan', 'Tanzania', 'Tennessee', 'Texas', 'Thailand', 'Timor Leste', 'Tonga', 'Tristan da Cunha region', 'Tunisia', 'Turkey', 'U.S. Virgin Islands', 'Uganda', 'Ukraine', 'Uzbekistan', 'Vanuatu', 'Vanuatu region', 'Venezuela', 'Vietnam', 'Wallis and Futuna', 'Washington', 'West Chile Rise', 'Western Caribbean Sea', 'Xizang-Qinghai border region', 'Yemen', 'Zimbabwe', 'central East Pacific Rise', 'central Mid-Atlantic Ridge', 'east central Pacific Ocean', 'east of Severnaya Zemlya', 'east of the Kuril Islands', 'east of the South Sandwich Islands', 'north of Ascension Island', 'north of Franz Josef Land', 'north of Severnaya Zemlya', 'north of Svalbard', 'northern East Pacific Rise', 'northern Mid-Atlantic Ridge', 'northwest of New Zealand', 'northwest of the Kuril Islands', 'off the coast of Central America', 'off the coast of Ecuador', 'off the coast of Oregon', 'south of Africa', 'south of Panama', 'south of Tonga', 'south of the Fiji Islands', 'south of the Kermadec Islands', 'southeast Indian Ridge', 'southeast central Pacific Ocean', 'southeast of Easter Island', 'southeast of the Loyalty Islands', 'southern East Pacific Rise', 'southern Mid-Atlantic Ridge', 'southern Pacific Ocean', 'southwest of Africa', 'west of Macquarie Island', 'west of Vancouver Island', 'west of the Galapagos Islands', 'western Indian-Antarctic Ridge', 'western Xizang'])"
      ]
     },
     "execution_count": 19,
     "metadata": {},
     "output_type": "execute_result"
    }
   ],
   "source": [
    "groups.keys()"
   ]
  },
  {
   "cell_type": "code",
   "execution_count": 20,
   "metadata": {
    "scrolled": true
   },
   "outputs": [
    {
     "data": {
      "text/plain": [
       "['2025 Drake Passage Earthquake',\n",
       " 'Afghanistan',\n",
       " 'Alaska',\n",
       " 'Algeria',\n",
       " 'Anguilla',\n",
       " 'Antigua and Barbuda',\n",
       " 'Arctic Ocean',\n",
       " 'Argentina',\n",
       " 'Armenia',\n",
       " 'Ascension Island region',\n",
       " 'Australia',\n",
       " 'Azerbaijan',\n",
       " 'Azores Islands region',\n",
       " 'Bahamas',\n",
       " 'Balleny Islands region',\n",
       " 'Banda Sea',\n",
       " 'Barbados',\n",
       " 'Bolivia',\n",
       " 'Bosnia and Herzegovina',\n",
       " 'Brazil',\n",
       " 'Burma',\n",
       " 'Burma (Myanmar)',\n",
       " 'Burma (Myanmar) Earthquake',\n",
       " 'CA',\n",
       " 'Canada',\n",
       " 'Carlsberg Ridge',\n",
       " 'Cayman Islands',\n",
       " 'Chad',\n",
       " 'Chagos Archipelago region',\n",
       " 'Chile',\n",
       " 'China',\n",
       " 'Colombia',\n",
       " 'Costa Rica',\n",
       " 'Croatia',\n",
       " 'Democratic Republic of the Congo',\n",
       " 'Dominica',\n",
       " 'Dominican Republic',\n",
       " 'Drake Passage',\n",
       " 'Easter Island region',\n",
       " 'Ecuador',\n",
       " 'Ecuador region',\n",
       " 'El Salvador',\n",
       " 'Eritrea',\n",
       " 'Ethiopia',\n",
       " 'Federated States of Micronesia',\n",
       " 'Federated States of Micronesia region',\n",
       " 'Fiji',\n",
       " 'Fiji region',\n",
       " 'Georgia',\n",
       " 'Greece',\n",
       " 'Greenland Sea',\n",
       " 'Guadeloupe',\n",
       " 'Guam',\n",
       " 'Guatemala',\n",
       " 'Hawaii',\n",
       " 'Honduras',\n",
       " 'Iceland',\n",
       " 'Iceland region',\n",
       " 'Idaho',\n",
       " 'India',\n",
       " 'India region',\n",
       " 'Indian Ocean Triple Junction',\n",
       " 'Indonesia',\n",
       " 'Iran',\n",
       " 'Italy',\n",
       " 'Japan',\n",
       " 'Japan region',\n",
       " 'Kazakhstan',\n",
       " 'Kermadec Islands region',\n",
       " 'Kuril Islands',\n",
       " 'Kuwait',\n",
       " 'Kyrgyzstan',\n",
       " 'Libya',\n",
       " 'MX',\n",
       " 'Macquarie Island region',\n",
       " 'Madagascar',\n",
       " 'Malawi',\n",
       " 'Mariana Islands region',\n",
       " 'Martinique',\n",
       " 'Mauritius',\n",
       " 'Mauritius - Reunion region',\n",
       " 'Mexico',\n",
       " 'Micronesia',\n",
       " 'Mid-Indian Ridge',\n",
       " 'Mongolia',\n",
       " 'Montenegro',\n",
       " 'Morocco',\n",
       " 'Nepal',\n",
       " 'New Caledonia',\n",
       " 'New Mexico',\n",
       " 'New Zealand',\n",
       " 'Nicaragua',\n",
       " 'North Atlantic Ocean',\n",
       " 'North Korea',\n",
       " 'Northern Mariana Islands',\n",
       " 'Norway',\n",
       " 'Norwegian Sea',\n",
       " 'Oman',\n",
       " 'Oregon',\n",
       " 'Owen Fracture Zone region',\n",
       " 'Pacific-Antarctic Ridge',\n",
       " 'Pakistan',\n",
       " 'Palau',\n",
       " 'Panama',\n",
       " 'Papua New Guinea',\n",
       " 'Peru',\n",
       " 'Philippines',\n",
       " 'Poland',\n",
       " 'Portugal',\n",
       " 'Prince Edward Islands region',\n",
       " 'Puerto Rico',\n",
       " 'Qatar',\n",
       " 'Revilla Gigedo Islands region',\n",
       " 'Reykjanes Ridge',\n",
       " 'Romania',\n",
       " 'Russia',\n",
       " 'Rwanda',\n",
       " 'Saint Helena',\n",
       " 'Saint Kitts and Nevis',\n",
       " 'Samoa',\n",
       " 'Saudi Arabia',\n",
       " 'Scotia Sea',\n",
       " 'Solomon Islands',\n",
       " 'Somalia',\n",
       " 'South Africa',\n",
       " 'South Atlantic Ocean',\n",
       " 'South Georgia Island region',\n",
       " 'South Indian Ocean',\n",
       " 'South Sandwich Islands region',\n",
       " 'South Shetland Islands',\n",
       " 'Southern Tibetan Plateau',\n",
       " 'Southwest Indian Ridge',\n",
       " 'Svalbard and Jan Mayen',\n",
       " 'Taiwan',\n",
       " 'Tajikistan',\n",
       " 'Tanzania',\n",
       " 'Tennessee',\n",
       " 'Texas',\n",
       " 'Thailand',\n",
       " 'Timor Leste',\n",
       " 'Tonga',\n",
       " 'Tristan da Cunha region',\n",
       " 'Tunisia',\n",
       " 'Turkey',\n",
       " 'U.S. Virgin Islands',\n",
       " 'Uganda',\n",
       " 'Ukraine',\n",
       " 'Uzbekistan',\n",
       " 'Vanuatu',\n",
       " 'Vanuatu region',\n",
       " 'Venezuela',\n",
       " 'Vietnam',\n",
       " 'Wallis and Futuna',\n",
       " 'Washington',\n",
       " 'West Chile Rise',\n",
       " 'Western Caribbean Sea',\n",
       " 'Xizang-Qinghai border region',\n",
       " 'Yemen',\n",
       " 'Zimbabwe',\n",
       " 'central East Pacific Rise',\n",
       " 'central Mid-Atlantic Ridge',\n",
       " 'east central Pacific Ocean',\n",
       " 'east of Severnaya Zemlya',\n",
       " 'east of the Kuril Islands',\n",
       " 'east of the South Sandwich Islands',\n",
       " 'north of Ascension Island',\n",
       " 'north of Franz Josef Land',\n",
       " 'north of Severnaya Zemlya',\n",
       " 'north of Svalbard',\n",
       " 'northern East Pacific Rise',\n",
       " 'northern Mid-Atlantic Ridge',\n",
       " 'northwest of New Zealand',\n",
       " 'northwest of the Kuril Islands',\n",
       " 'off the coast of Central America',\n",
       " 'off the coast of Ecuador',\n",
       " 'off the coast of Oregon',\n",
       " 'south of Africa',\n",
       " 'south of Panama',\n",
       " 'south of Tonga',\n",
       " 'south of the Fiji Islands',\n",
       " 'south of the Kermadec Islands',\n",
       " 'southeast Indian Ridge',\n",
       " 'southeast central Pacific Ocean',\n",
       " 'southeast of Easter Island',\n",
       " 'southeast of the Loyalty Islands',\n",
       " 'southern East Pacific Rise',\n",
       " 'southern Mid-Atlantic Ridge',\n",
       " 'southern Pacific Ocean',\n",
       " 'southwest of Africa',\n",
       " 'west of Macquarie Island',\n",
       " 'west of Vancouver Island',\n",
       " 'west of the Galapagos Islands',\n",
       " 'western Indian-Antarctic Ridge',\n",
       " 'western Xizang']"
      ]
     },
     "execution_count": 20,
     "metadata": {},
     "output_type": "execute_result"
    }
   ],
   "source": [
    "list(groups.keys())"
   ]
  },
  {
   "cell_type": "markdown",
   "metadata": {},
   "source": [
    "### Iterating and selecting groups\n",
    "\n",
    "You can loop through the groups if you want."
   ]
  },
  {
   "cell_type": "code",
   "execution_count": 21,
   "metadata": {},
   "outputs": [],
   "source": [
    "a = [1,2,3]"
   ]
  },
  {
   "cell_type": "code",
   "execution_count": 22,
   "metadata": {},
   "outputs": [
    {
     "data": {
      "text/plain": [
       "[1, 2, 3]"
      ]
     },
     "execution_count": 22,
     "metadata": {},
     "output_type": "execute_result"
    }
   ],
   "source": [
    "a"
   ]
  },
  {
   "cell_type": "code",
   "execution_count": 26,
   "metadata": {},
   "outputs": [
    {
     "data": {
      "text/plain": [
       "1"
      ]
     },
     "execution_count": 26,
     "metadata": {},
     "output_type": "execute_result"
    }
   ],
   "source": [
    "a[0]"
   ]
  },
  {
   "cell_type": "code",
   "execution_count": 23,
   "metadata": {},
   "outputs": [],
   "source": [
    "b = {'key1': 1, 'key2':2, 'key3':4\n",
    "    }"
   ]
  },
  {
   "cell_type": "code",
   "execution_count": 24,
   "metadata": {},
   "outputs": [
    {
     "data": {
      "text/plain": [
       "{'key1': 1, 'key2': 2, 'key3': 4}"
      ]
     },
     "execution_count": 24,
     "metadata": {},
     "output_type": "execute_result"
    }
   ],
   "source": [
    "b"
   ]
  },
  {
   "cell_type": "code",
   "execution_count": 25,
   "metadata": {},
   "outputs": [
    {
     "data": {
      "text/plain": [
       "1"
      ]
     },
     "execution_count": 25,
     "metadata": {},
     "output_type": "execute_result"
    }
   ],
   "source": [
    "b['key1']"
   ]
  },
  {
   "cell_type": "code",
   "execution_count": 28,
   "metadata": {},
   "outputs": [
    {
     "data": {
      "text/plain": [
       "Index(['us6000qjkh', 'us7000pp10', 'us6000pzrv', 'us6000pzl1', 'us6000pvw6'], dtype='object', name='id')"
      ]
     },
     "execution_count": 28,
     "metadata": {},
     "output_type": "execute_result"
    }
   ],
   "source": [
    "groups['south of Africa']"
   ]
  },
  {
   "cell_type": "code",
   "execution_count": 29,
   "metadata": {},
   "outputs": [
    {
     "data": {
      "text/plain": [
       "Index(['us6000qkkm', 'us6000qjhm', 'us6000qiif', 'us6000qhyi', 'us6000qh0s',\n",
       "       'us7000q1by', 'us7000q0z5', 'us7000q0aw', 'us7000q05h', 'us7000pzz5',\n",
       "       'us7000pyne', 'us7000pydu', 'us7000px78', 'us7000pwle', 'us7000pve9',\n",
       "       'us7000pvcr', 'us7000pv82', 'us7000pv7x', 'us7000pv02', 'us6000q76g',\n",
       "       'us6000q6fr', 'us7000pw58', 'us6000q6c3', 'us7000ppcq', 'us7000pni6',\n",
       "       'us7000pni0', 'us7000pne1', 'us7000pn0e', 'us7000pmym', 'us7000plhv',\n",
       "       'us7000plec', 'us6000pzkp', 'us6000pxul', 'us6000pwru', 'us6000pxge',\n",
       "       'us6000pvsk', 'us7000pflg', 'us7000pfcc', 'us7000pfc9', 'us7000pefx',\n",
       "       'us7000pd3k', 'us7000pchv', 'us7000pb68', 'us7000pb30', 'us6000pmd7',\n",
       "       'us6000plpp', 'us6000pk88', 'us6000pk23', 'us6000pjtx', 'us6000pjpy',\n",
       "       'us6000pjlp'],\n",
       "      dtype='object', name='id')"
      ]
     },
     "execution_count": 29,
     "metadata": {},
     "output_type": "execute_result"
    }
   ],
   "source": [
    "groups['Afghanistan']"
   ]
  },
  {
   "cell_type": "code",
   "execution_count": 30,
   "metadata": {},
   "outputs": [
    {
     "data": {
      "text/html": [
       "<div>\n",
       "<style scoped>\n",
       "    .dataframe tbody tr th:only-of-type {\n",
       "        vertical-align: middle;\n",
       "    }\n",
       "\n",
       "    .dataframe tbody tr th {\n",
       "        vertical-align: top;\n",
       "    }\n",
       "\n",
       "    .dataframe thead th {\n",
       "        text-align: right;\n",
       "    }\n",
       "</style>\n",
       "<table border=\"1\" class=\"dataframe\">\n",
       "  <thead>\n",
       "    <tr style=\"text-align: right;\">\n",
       "      <th></th>\n",
       "      <th>time</th>\n",
       "      <th>latitude</th>\n",
       "      <th>longitude</th>\n",
       "      <th>depth</th>\n",
       "      <th>mag</th>\n",
       "      <th>magType</th>\n",
       "      <th>nst</th>\n",
       "      <th>gap</th>\n",
       "      <th>dmin</th>\n",
       "      <th>rms</th>\n",
       "      <th>...</th>\n",
       "      <th>place</th>\n",
       "      <th>type</th>\n",
       "      <th>horizontalError</th>\n",
       "      <th>depthError</th>\n",
       "      <th>magError</th>\n",
       "      <th>magNst</th>\n",
       "      <th>status</th>\n",
       "      <th>locationSource</th>\n",
       "      <th>magSource</th>\n",
       "      <th>country</th>\n",
       "    </tr>\n",
       "    <tr>\n",
       "      <th>id</th>\n",
       "      <th></th>\n",
       "      <th></th>\n",
       "      <th></th>\n",
       "      <th></th>\n",
       "      <th></th>\n",
       "      <th></th>\n",
       "      <th></th>\n",
       "      <th></th>\n",
       "      <th></th>\n",
       "      <th></th>\n",
       "      <th></th>\n",
       "      <th></th>\n",
       "      <th></th>\n",
       "      <th></th>\n",
       "      <th></th>\n",
       "      <th></th>\n",
       "      <th></th>\n",
       "      <th></th>\n",
       "      <th></th>\n",
       "      <th></th>\n",
       "      <th></th>\n",
       "    </tr>\n",
       "  </thead>\n",
       "  <tbody>\n",
       "    <tr>\n",
       "      <th>us7000pwkn</th>\n",
       "      <td>2025-05-02 12:58:26.014000+00:00</td>\n",
       "      <td>-56.8094</td>\n",
       "      <td>-68.1019</td>\n",
       "      <td>10.0</td>\n",
       "      <td>7.4</td>\n",
       "      <td>mww</td>\n",
       "      <td>284.0</td>\n",
       "      <td>20.0</td>\n",
       "      <td>1.9</td>\n",
       "      <td>0.75</td>\n",
       "      <td>...</td>\n",
       "      <td>2025 Drake Passage Earthquake</td>\n",
       "      <td>earthquake</td>\n",
       "      <td>7.58</td>\n",
       "      <td>1.441</td>\n",
       "      <td>0.038</td>\n",
       "      <td>68.0</td>\n",
       "      <td>reviewed</td>\n",
       "      <td>us</td>\n",
       "      <td>us</td>\n",
       "      <td>2025 Drake Passage Earthquake</td>\n",
       "    </tr>\n",
       "  </tbody>\n",
       "</table>\n",
       "<p>1 rows × 22 columns</p>\n",
       "</div>"
      ],
      "text/plain": [
       "                                       time  latitude  longitude  depth  mag  \\\n",
       "id                                                                             \n",
       "us7000pwkn 2025-05-02 12:58:26.014000+00:00  -56.8094   -68.1019   10.0  7.4   \n",
       "\n",
       "           magType    nst   gap  dmin   rms  ...  \\\n",
       "id                                           ...   \n",
       "us7000pwkn     mww  284.0  20.0   1.9  0.75  ...   \n",
       "\n",
       "                                    place        type horizontalError  \\\n",
       "id                                                                      \n",
       "us7000pwkn  2025 Drake Passage Earthquake  earthquake            7.58   \n",
       "\n",
       "           depthError  magError  magNst    status  locationSource magSource  \\\n",
       "id                                                                            \n",
       "us7000pwkn      1.441     0.038    68.0  reviewed              us        us   \n",
       "\n",
       "                                  country  \n",
       "id                                         \n",
       "us7000pwkn  2025 Drake Passage Earthquake  \n",
       "\n",
       "[1 rows x 22 columns]"
      ]
     },
     "metadata": {},
     "output_type": "display_data"
    },
    {
     "name": "stdout",
     "output_type": "stream",
     "text": [
      "The key is \"2025 Drake Passage Earthquake\"\n"
     ]
    }
   ],
   "source": [
    "for key, group in gb:\n",
    "    display(group.head())\n",
    "    print(f'The key is \"{key}\"')\n",
    "    break"
   ]
  },
  {
   "cell_type": "code",
   "execution_count": 31,
   "metadata": {},
   "outputs": [
    {
     "data": {
      "text/html": [
       "<div>\n",
       "<style scoped>\n",
       "    .dataframe tbody tr th:only-of-type {\n",
       "        vertical-align: middle;\n",
       "    }\n",
       "\n",
       "    .dataframe tbody tr th {\n",
       "        vertical-align: top;\n",
       "    }\n",
       "\n",
       "    .dataframe thead th {\n",
       "        text-align: right;\n",
       "    }\n",
       "</style>\n",
       "<table border=\"1\" class=\"dataframe\">\n",
       "  <thead>\n",
       "    <tr style=\"text-align: right;\">\n",
       "      <th></th>\n",
       "      <th>time</th>\n",
       "      <th>latitude</th>\n",
       "      <th>longitude</th>\n",
       "      <th>depth</th>\n",
       "      <th>mag</th>\n",
       "      <th>magType</th>\n",
       "      <th>nst</th>\n",
       "      <th>gap</th>\n",
       "      <th>dmin</th>\n",
       "      <th>rms</th>\n",
       "      <th>...</th>\n",
       "      <th>place</th>\n",
       "      <th>type</th>\n",
       "      <th>horizontalError</th>\n",
       "      <th>depthError</th>\n",
       "      <th>magError</th>\n",
       "      <th>magNst</th>\n",
       "      <th>status</th>\n",
       "      <th>locationSource</th>\n",
       "      <th>magSource</th>\n",
       "      <th>country</th>\n",
       "    </tr>\n",
       "    <tr>\n",
       "      <th>id</th>\n",
       "      <th></th>\n",
       "      <th></th>\n",
       "      <th></th>\n",
       "      <th></th>\n",
       "      <th></th>\n",
       "      <th></th>\n",
       "      <th></th>\n",
       "      <th></th>\n",
       "      <th></th>\n",
       "      <th></th>\n",
       "      <th></th>\n",
       "      <th></th>\n",
       "      <th></th>\n",
       "      <th></th>\n",
       "      <th></th>\n",
       "      <th></th>\n",
       "      <th></th>\n",
       "      <th></th>\n",
       "      <th></th>\n",
       "      <th></th>\n",
       "      <th></th>\n",
       "    </tr>\n",
       "  </thead>\n",
       "  <tbody>\n",
       "    <tr>\n",
       "      <th>us7000pwkn</th>\n",
       "      <td>2025-05-02 12:58:26.014000+00:00</td>\n",
       "      <td>-56.8094</td>\n",
       "      <td>-68.1019</td>\n",
       "      <td>10.0</td>\n",
       "      <td>7.4</td>\n",
       "      <td>mww</td>\n",
       "      <td>284.0</td>\n",
       "      <td>20.0</td>\n",
       "      <td>1.9</td>\n",
       "      <td>0.75</td>\n",
       "      <td>...</td>\n",
       "      <td>2025 Drake Passage Earthquake</td>\n",
       "      <td>earthquake</td>\n",
       "      <td>7.58</td>\n",
       "      <td>1.441</td>\n",
       "      <td>0.038</td>\n",
       "      <td>68.0</td>\n",
       "      <td>reviewed</td>\n",
       "      <td>us</td>\n",
       "      <td>us</td>\n",
       "      <td>2025 Drake Passage Earthquake</td>\n",
       "    </tr>\n",
       "  </tbody>\n",
       "</table>\n",
       "<p>1 rows × 22 columns</p>\n",
       "</div>"
      ],
      "text/plain": [
       "                                       time  latitude  longitude  depth  mag  \\\n",
       "id                                                                             \n",
       "us7000pwkn 2025-05-02 12:58:26.014000+00:00  -56.8094   -68.1019   10.0  7.4   \n",
       "\n",
       "           magType    nst   gap  dmin   rms  ...  \\\n",
       "id                                           ...   \n",
       "us7000pwkn     mww  284.0  20.0   1.9  0.75  ...   \n",
       "\n",
       "                                    place        type horizontalError  \\\n",
       "id                                                                      \n",
       "us7000pwkn  2025 Drake Passage Earthquake  earthquake            7.58   \n",
       "\n",
       "           depthError  magError  magNst    status  locationSource magSource  \\\n",
       "id                                                                            \n",
       "us7000pwkn      1.441     0.038    68.0  reviewed              us        us   \n",
       "\n",
       "                                  country  \n",
       "id                                         \n",
       "us7000pwkn  2025 Drake Passage Earthquake  \n",
       "\n",
       "[1 rows x 22 columns]"
      ]
     },
     "metadata": {},
     "output_type": "display_data"
    },
    {
     "name": "stdout",
     "output_type": "stream",
     "text": [
      "The key is \"2025 Drake Passage Earthquake\"\n"
     ]
    },
    {
     "data": {
      "text/html": [
       "<div>\n",
       "<style scoped>\n",
       "    .dataframe tbody tr th:only-of-type {\n",
       "        vertical-align: middle;\n",
       "    }\n",
       "\n",
       "    .dataframe tbody tr th {\n",
       "        vertical-align: top;\n",
       "    }\n",
       "\n",
       "    .dataframe thead th {\n",
       "        text-align: right;\n",
       "    }\n",
       "</style>\n",
       "<table border=\"1\" class=\"dataframe\">\n",
       "  <thead>\n",
       "    <tr style=\"text-align: right;\">\n",
       "      <th></th>\n",
       "      <th>time</th>\n",
       "      <th>latitude</th>\n",
       "      <th>longitude</th>\n",
       "      <th>depth</th>\n",
       "      <th>mag</th>\n",
       "      <th>magType</th>\n",
       "      <th>nst</th>\n",
       "      <th>gap</th>\n",
       "      <th>dmin</th>\n",
       "      <th>rms</th>\n",
       "      <th>...</th>\n",
       "      <th>place</th>\n",
       "      <th>type</th>\n",
       "      <th>horizontalError</th>\n",
       "      <th>depthError</th>\n",
       "      <th>magError</th>\n",
       "      <th>magNst</th>\n",
       "      <th>status</th>\n",
       "      <th>locationSource</th>\n",
       "      <th>magSource</th>\n",
       "      <th>country</th>\n",
       "    </tr>\n",
       "    <tr>\n",
       "      <th>id</th>\n",
       "      <th></th>\n",
       "      <th></th>\n",
       "      <th></th>\n",
       "      <th></th>\n",
       "      <th></th>\n",
       "      <th></th>\n",
       "      <th></th>\n",
       "      <th></th>\n",
       "      <th></th>\n",
       "      <th></th>\n",
       "      <th></th>\n",
       "      <th></th>\n",
       "      <th></th>\n",
       "      <th></th>\n",
       "      <th></th>\n",
       "      <th></th>\n",
       "      <th></th>\n",
       "      <th></th>\n",
       "      <th></th>\n",
       "      <th></th>\n",
       "      <th></th>\n",
       "    </tr>\n",
       "  </thead>\n",
       "  <tbody>\n",
       "    <tr>\n",
       "      <th>us6000qkkm</th>\n",
       "      <td>2025-06-16 10:34:13.071000+00:00</td>\n",
       "      <td>36.5269</td>\n",
       "      <td>70.2915</td>\n",
       "      <td>197.467</td>\n",
       "      <td>4.4</td>\n",
       "      <td>mb</td>\n",
       "      <td>38.0</td>\n",
       "      <td>89.0</td>\n",
       "      <td>2.218</td>\n",
       "      <td>0.85</td>\n",
       "      <td>...</td>\n",
       "      <td>39 km E of Farkhār, Afghanistan</td>\n",
       "      <td>earthquake</td>\n",
       "      <td>7.68</td>\n",
       "      <td>9.861</td>\n",
       "      <td>0.130</td>\n",
       "      <td>17.0</td>\n",
       "      <td>reviewed</td>\n",
       "      <td>us</td>\n",
       "      <td>us</td>\n",
       "      <td>Afghanistan</td>\n",
       "    </tr>\n",
       "    <tr>\n",
       "      <th>us6000qjhm</th>\n",
       "      <td>2025-06-11 04:45:23.745000+00:00</td>\n",
       "      <td>36.5328</td>\n",
       "      <td>70.6591</td>\n",
       "      <td>215.471</td>\n",
       "      <td>4.4</td>\n",
       "      <td>mb</td>\n",
       "      <td>72.0</td>\n",
       "      <td>139.0</td>\n",
       "      <td>2.295</td>\n",
       "      <td>0.88</td>\n",
       "      <td>...</td>\n",
       "      <td>40 km SSW of Jurm, Afghanistan</td>\n",
       "      <td>earthquake</td>\n",
       "      <td>9.25</td>\n",
       "      <td>7.628</td>\n",
       "      <td>0.058</td>\n",
       "      <td>85.0</td>\n",
       "      <td>reviewed</td>\n",
       "      <td>us</td>\n",
       "      <td>us</td>\n",
       "      <td>Afghanistan</td>\n",
       "    </tr>\n",
       "    <tr>\n",
       "      <th>us6000qiif</th>\n",
       "      <td>2025-06-06 19:26:58.547000+00:00</td>\n",
       "      <td>36.6295</td>\n",
       "      <td>68.0963</td>\n",
       "      <td>37.077</td>\n",
       "      <td>4.3</td>\n",
       "      <td>mb</td>\n",
       "      <td>69.0</td>\n",
       "      <td>124.0</td>\n",
       "      <td>2.192</td>\n",
       "      <td>0.57</td>\n",
       "      <td>...</td>\n",
       "      <td>36 km ESE of Khulm, Afghanistan</td>\n",
       "      <td>earthquake</td>\n",
       "      <td>8.13</td>\n",
       "      <td>9.473</td>\n",
       "      <td>0.068</td>\n",
       "      <td>61.0</td>\n",
       "      <td>reviewed</td>\n",
       "      <td>us</td>\n",
       "      <td>us</td>\n",
       "      <td>Afghanistan</td>\n",
       "    </tr>\n",
       "    <tr>\n",
       "      <th>us6000qhyi</th>\n",
       "      <td>2025-06-04 19:29:30.379000+00:00</td>\n",
       "      <td>36.5033</td>\n",
       "      <td>71.1492</td>\n",
       "      <td>229.220</td>\n",
       "      <td>4.2</td>\n",
       "      <td>mb</td>\n",
       "      <td>69.0</td>\n",
       "      <td>79.0</td>\n",
       "      <td>2.096</td>\n",
       "      <td>0.80</td>\n",
       "      <td>...</td>\n",
       "      <td>39 km WSW of Ashkāsham, Afghanistan</td>\n",
       "      <td>earthquake</td>\n",
       "      <td>7.97</td>\n",
       "      <td>7.099</td>\n",
       "      <td>0.083</td>\n",
       "      <td>41.0</td>\n",
       "      <td>reviewed</td>\n",
       "      <td>us</td>\n",
       "      <td>us</td>\n",
       "      <td>Afghanistan</td>\n",
       "    </tr>\n",
       "    <tr>\n",
       "      <th>us6000qh0s</th>\n",
       "      <td>2025-05-31 02:45:35.975000+00:00</td>\n",
       "      <td>35.8044</td>\n",
       "      <td>71.1038</td>\n",
       "      <td>83.711</td>\n",
       "      <td>4.3</td>\n",
       "      <td>mb</td>\n",
       "      <td>31.0</td>\n",
       "      <td>98.0</td>\n",
       "      <td>2.063</td>\n",
       "      <td>1.28</td>\n",
       "      <td>...</td>\n",
       "      <td>45 km NNE of Pārūn, Afghanistan</td>\n",
       "      <td>earthquake</td>\n",
       "      <td>8.31</td>\n",
       "      <td>7.823</td>\n",
       "      <td>0.154</td>\n",
       "      <td>12.0</td>\n",
       "      <td>reviewed</td>\n",
       "      <td>us</td>\n",
       "      <td>us</td>\n",
       "      <td>Afghanistan</td>\n",
       "    </tr>\n",
       "  </tbody>\n",
       "</table>\n",
       "<p>5 rows × 22 columns</p>\n",
       "</div>"
      ],
      "text/plain": [
       "                                       time  latitude  longitude    depth  \\\n",
       "id                                                                          \n",
       "us6000qkkm 2025-06-16 10:34:13.071000+00:00   36.5269    70.2915  197.467   \n",
       "us6000qjhm 2025-06-11 04:45:23.745000+00:00   36.5328    70.6591  215.471   \n",
       "us6000qiif 2025-06-06 19:26:58.547000+00:00   36.6295    68.0963   37.077   \n",
       "us6000qhyi 2025-06-04 19:29:30.379000+00:00   36.5033    71.1492  229.220   \n",
       "us6000qh0s 2025-05-31 02:45:35.975000+00:00   35.8044    71.1038   83.711   \n",
       "\n",
       "            mag magType   nst    gap   dmin   rms  ...  \\\n",
       "id                                                 ...   \n",
       "us6000qkkm  4.4      mb  38.0   89.0  2.218  0.85  ...   \n",
       "us6000qjhm  4.4      mb  72.0  139.0  2.295  0.88  ...   \n",
       "us6000qiif  4.3      mb  69.0  124.0  2.192  0.57  ...   \n",
       "us6000qhyi  4.2      mb  69.0   79.0  2.096  0.80  ...   \n",
       "us6000qh0s  4.3      mb  31.0   98.0  2.063  1.28  ...   \n",
       "\n",
       "                                          place        type horizontalError  \\\n",
       "id                                                                            \n",
       "us6000qkkm      39 km E of Farkhār, Afghanistan  earthquake            7.68   \n",
       "us6000qjhm       40 km SSW of Jurm, Afghanistan  earthquake            9.25   \n",
       "us6000qiif      36 km ESE of Khulm, Afghanistan  earthquake            8.13   \n",
       "us6000qhyi  39 km WSW of Ashkāsham, Afghanistan  earthquake            7.97   \n",
       "us6000qh0s      45 km NNE of Pārūn, Afghanistan  earthquake            8.31   \n",
       "\n",
       "           depthError  magError  magNst    status  locationSource magSource  \\\n",
       "id                                                                            \n",
       "us6000qkkm      9.861     0.130    17.0  reviewed              us        us   \n",
       "us6000qjhm      7.628     0.058    85.0  reviewed              us        us   \n",
       "us6000qiif      9.473     0.068    61.0  reviewed              us        us   \n",
       "us6000qhyi      7.099     0.083    41.0  reviewed              us        us   \n",
       "us6000qh0s      7.823     0.154    12.0  reviewed              us        us   \n",
       "\n",
       "                country  \n",
       "id                       \n",
       "us6000qkkm  Afghanistan  \n",
       "us6000qjhm  Afghanistan  \n",
       "us6000qiif  Afghanistan  \n",
       "us6000qhyi  Afghanistan  \n",
       "us6000qh0s  Afghanistan  \n",
       "\n",
       "[5 rows x 22 columns]"
      ]
     },
     "metadata": {},
     "output_type": "display_data"
    },
    {
     "name": "stdout",
     "output_type": "stream",
     "text": [
      "The key is \"Afghanistan\"\n"
     ]
    },
    {
     "data": {
      "text/html": [
       "<div>\n",
       "<style scoped>\n",
       "    .dataframe tbody tr th:only-of-type {\n",
       "        vertical-align: middle;\n",
       "    }\n",
       "\n",
       "    .dataframe tbody tr th {\n",
       "        vertical-align: top;\n",
       "    }\n",
       "\n",
       "    .dataframe thead th {\n",
       "        text-align: right;\n",
       "    }\n",
       "</style>\n",
       "<table border=\"1\" class=\"dataframe\">\n",
       "  <thead>\n",
       "    <tr style=\"text-align: right;\">\n",
       "      <th></th>\n",
       "      <th>time</th>\n",
       "      <th>latitude</th>\n",
       "      <th>longitude</th>\n",
       "      <th>depth</th>\n",
       "      <th>mag</th>\n",
       "      <th>magType</th>\n",
       "      <th>nst</th>\n",
       "      <th>gap</th>\n",
       "      <th>dmin</th>\n",
       "      <th>rms</th>\n",
       "      <th>...</th>\n",
       "      <th>place</th>\n",
       "      <th>type</th>\n",
       "      <th>horizontalError</th>\n",
       "      <th>depthError</th>\n",
       "      <th>magError</th>\n",
       "      <th>magNst</th>\n",
       "      <th>status</th>\n",
       "      <th>locationSource</th>\n",
       "      <th>magSource</th>\n",
       "      <th>country</th>\n",
       "    </tr>\n",
       "    <tr>\n",
       "      <th>id</th>\n",
       "      <th></th>\n",
       "      <th></th>\n",
       "      <th></th>\n",
       "      <th></th>\n",
       "      <th></th>\n",
       "      <th></th>\n",
       "      <th></th>\n",
       "      <th></th>\n",
       "      <th></th>\n",
       "      <th></th>\n",
       "      <th></th>\n",
       "      <th></th>\n",
       "      <th></th>\n",
       "      <th></th>\n",
       "      <th></th>\n",
       "      <th></th>\n",
       "      <th></th>\n",
       "      <th></th>\n",
       "      <th></th>\n",
       "      <th></th>\n",
       "      <th></th>\n",
       "    </tr>\n",
       "  </thead>\n",
       "  <tbody>\n",
       "    <tr>\n",
       "      <th>ak0257l477bi</th>\n",
       "      <td>2025-06-14 14:32:06.018000+00:00</td>\n",
       "      <td>65.7762</td>\n",
       "      <td>-145.7213</td>\n",
       "      <td>10.800</td>\n",
       "      <td>4.7</td>\n",
       "      <td>ml</td>\n",
       "      <td>NaN</td>\n",
       "      <td>NaN</td>\n",
       "      <td>NaN</td>\n",
       "      <td>0.80</td>\n",
       "      <td>...</td>\n",
       "      <td>47 km WNW of Central, Alaska</td>\n",
       "      <td>earthquake</td>\n",
       "      <td>NaN</td>\n",
       "      <td>0.200</td>\n",
       "      <td>NaN</td>\n",
       "      <td>NaN</td>\n",
       "      <td>reviewed</td>\n",
       "      <td>ak</td>\n",
       "      <td>ak</td>\n",
       "      <td>Alaska</td>\n",
       "    </tr>\n",
       "    <tr>\n",
       "      <th>ak0257jjjt29</th>\n",
       "      <td>2025-06-13 19:17:06.365000+00:00</td>\n",
       "      <td>60.1166</td>\n",
       "      <td>-153.4203</td>\n",
       "      <td>159.700</td>\n",
       "      <td>4.2</td>\n",
       "      <td>ml</td>\n",
       "      <td>NaN</td>\n",
       "      <td>NaN</td>\n",
       "      <td>NaN</td>\n",
       "      <td>0.67</td>\n",
       "      <td>...</td>\n",
       "      <td>50 km E of Port Alsworth, Alaska</td>\n",
       "      <td>earthquake</td>\n",
       "      <td>NaN</td>\n",
       "      <td>0.300</td>\n",
       "      <td>NaN</td>\n",
       "      <td>NaN</td>\n",
       "      <td>reviewed</td>\n",
       "      <td>ak</td>\n",
       "      <td>ak</td>\n",
       "      <td>Alaska</td>\n",
       "    </tr>\n",
       "    <tr>\n",
       "      <th>us6000qjn2</th>\n",
       "      <td>2025-06-11 20:36:16.744000+00:00</td>\n",
       "      <td>51.3129</td>\n",
       "      <td>-176.2917</td>\n",
       "      <td>27.118</td>\n",
       "      <td>4.7</td>\n",
       "      <td>mb</td>\n",
       "      <td>61.0</td>\n",
       "      <td>177.0</td>\n",
       "      <td>0.761</td>\n",
       "      <td>1.07</td>\n",
       "      <td>...</td>\n",
       "      <td>66 km SSE of Adak, Alaska</td>\n",
       "      <td>earthquake</td>\n",
       "      <td>6.3</td>\n",
       "      <td>6.568</td>\n",
       "      <td>0.039</td>\n",
       "      <td>206.0</td>\n",
       "      <td>reviewed</td>\n",
       "      <td>us</td>\n",
       "      <td>us</td>\n",
       "      <td>Alaska</td>\n",
       "    </tr>\n",
       "    <tr>\n",
       "      <th>ak0257egu4bq</th>\n",
       "      <td>2025-06-10 12:28:19.795000+00:00</td>\n",
       "      <td>61.9075</td>\n",
       "      <td>-150.9539</td>\n",
       "      <td>15.200</td>\n",
       "      <td>4.1</td>\n",
       "      <td>ml</td>\n",
       "      <td>NaN</td>\n",
       "      <td>NaN</td>\n",
       "      <td>NaN</td>\n",
       "      <td>0.93</td>\n",
       "      <td>...</td>\n",
       "      <td>25 km ESE of Skwentna, Alaska</td>\n",
       "      <td>earthquake</td>\n",
       "      <td>NaN</td>\n",
       "      <td>0.100</td>\n",
       "      <td>NaN</td>\n",
       "      <td>NaN</td>\n",
       "      <td>reviewed</td>\n",
       "      <td>ak</td>\n",
       "      <td>ak</td>\n",
       "      <td>Alaska</td>\n",
       "    </tr>\n",
       "    <tr>\n",
       "      <th>us6000qim5</th>\n",
       "      <td>2025-06-07 04:00:30.558000+00:00</td>\n",
       "      <td>51.6019</td>\n",
       "      <td>-171.8916</td>\n",
       "      <td>35.000</td>\n",
       "      <td>4.3</td>\n",
       "      <td>mb</td>\n",
       "      <td>52.0</td>\n",
       "      <td>180.0</td>\n",
       "      <td>1.550</td>\n",
       "      <td>0.95</td>\n",
       "      <td>...</td>\n",
       "      <td>172 km ESE of Atka, Alaska</td>\n",
       "      <td>earthquake</td>\n",
       "      <td>8.9</td>\n",
       "      <td>1.974</td>\n",
       "      <td>0.047</td>\n",
       "      <td>127.0</td>\n",
       "      <td>reviewed</td>\n",
       "      <td>us</td>\n",
       "      <td>us</td>\n",
       "      <td>Alaska</td>\n",
       "    </tr>\n",
       "  </tbody>\n",
       "</table>\n",
       "<p>5 rows × 22 columns</p>\n",
       "</div>"
      ],
      "text/plain": [
       "                                         time  latitude  longitude    depth  \\\n",
       "id                                                                            \n",
       "ak0257l477bi 2025-06-14 14:32:06.018000+00:00   65.7762  -145.7213   10.800   \n",
       "ak0257jjjt29 2025-06-13 19:17:06.365000+00:00   60.1166  -153.4203  159.700   \n",
       "us6000qjn2   2025-06-11 20:36:16.744000+00:00   51.3129  -176.2917   27.118   \n",
       "ak0257egu4bq 2025-06-10 12:28:19.795000+00:00   61.9075  -150.9539   15.200   \n",
       "us6000qim5   2025-06-07 04:00:30.558000+00:00   51.6019  -171.8916   35.000   \n",
       "\n",
       "              mag magType   nst    gap   dmin   rms  ...  \\\n",
       "id                                                   ...   \n",
       "ak0257l477bi  4.7      ml   NaN    NaN    NaN  0.80  ...   \n",
       "ak0257jjjt29  4.2      ml   NaN    NaN    NaN  0.67  ...   \n",
       "us6000qjn2    4.7      mb  61.0  177.0  0.761  1.07  ...   \n",
       "ak0257egu4bq  4.1      ml   NaN    NaN    NaN  0.93  ...   \n",
       "us6000qim5    4.3      mb  52.0  180.0  1.550  0.95  ...   \n",
       "\n",
       "                                         place        type horizontalError  \\\n",
       "id                                                                           \n",
       "ak0257l477bi      47 km WNW of Central, Alaska  earthquake             NaN   \n",
       "ak0257jjjt29  50 km E of Port Alsworth, Alaska  earthquake             NaN   \n",
       "us6000qjn2           66 km SSE of Adak, Alaska  earthquake             6.3   \n",
       "ak0257egu4bq     25 km ESE of Skwentna, Alaska  earthquake             NaN   \n",
       "us6000qim5          172 km ESE of Atka, Alaska  earthquake             8.9   \n",
       "\n",
       "             depthError  magError  magNst    status  locationSource magSource  \\\n",
       "id                                                                              \n",
       "ak0257l477bi      0.200       NaN     NaN  reviewed              ak        ak   \n",
       "ak0257jjjt29      0.300       NaN     NaN  reviewed              ak        ak   \n",
       "us6000qjn2        6.568     0.039   206.0  reviewed              us        us   \n",
       "ak0257egu4bq      0.100       NaN     NaN  reviewed              ak        ak   \n",
       "us6000qim5        1.974     0.047   127.0  reviewed              us        us   \n",
       "\n",
       "             country  \n",
       "id                    \n",
       "ak0257l477bi  Alaska  \n",
       "ak0257jjjt29  Alaska  \n",
       "us6000qjn2    Alaska  \n",
       "ak0257egu4bq  Alaska  \n",
       "us6000qim5    Alaska  \n",
       "\n",
       "[5 rows x 22 columns]"
      ]
     },
     "metadata": {},
     "output_type": "display_data"
    },
    {
     "name": "stdout",
     "output_type": "stream",
     "text": [
      "The key is \"Alaska\"\n"
     ]
    }
   ],
   "source": [
    "n = 0\n",
    "for key, group in gb:\n",
    "    display(group.head())\n",
    "    print(f'The key is \"{key}\"')\n",
    "    n= n+1\n",
    "    if n>2:\n",
    "        break"
   ]
  },
  {
   "cell_type": "markdown",
   "metadata": {},
   "source": [
    "And you can get a specific group by key."
   ]
  },
  {
   "cell_type": "code",
   "execution_count": null,
   "metadata": {},
   "outputs": [],
   "source": [
    "gb.get_group('Chile').head()"
   ]
  },
  {
   "cell_type": "markdown",
   "metadata": {},
   "source": [
    "## Aggregation\n",
    "\n",
    "Now that we know how to create a `GroupBy` object, let's learn how to do aggregation on it.\n",
    "\n",
    "One way us to use the `.aggregate` method, which accepts another function as its argument. The result is automatically combined into a new dataframe with the group key as the index."
   ]
  },
  {
   "cell_type": "code",
   "execution_count": null,
   "metadata": {},
   "outputs": [],
   "source": [
    "gb.aggregate(np.max).head()"
   ]
  },
  {
   "cell_type": "markdown",
   "metadata": {},
   "source": [
    "By default, the operation is applied to every column. That's usually not what we want. We can use both `.` or `[]` syntax to select a specific column to operate on. Then we get back a series."
   ]
  },
  {
   "cell_type": "code",
   "execution_count": null,
   "metadata": {},
   "outputs": [],
   "source": [
    "gb.mag.aggregate(np.max).head()"
   ]
  },
  {
   "cell_type": "code",
   "execution_count": null,
   "metadata": {},
   "outputs": [],
   "source": [
    "gb.mag.aggregate(np.max).nlargest(10)"
   ]
  },
  {
   "cell_type": "markdown",
   "metadata": {},
   "source": [
    "There are shortcuts for common aggregation functions:"
   ]
  },
  {
   "cell_type": "code",
   "execution_count": null,
   "metadata": {},
   "outputs": [],
   "source": [
    "gb.mag.max().nlargest(10)"
   ]
  },
  {
   "cell_type": "code",
   "execution_count": null,
   "metadata": {},
   "outputs": [],
   "source": [
    "gb.mag.min().nsmallest(10)"
   ]
  },
  {
   "cell_type": "code",
   "execution_count": null,
   "metadata": {},
   "outputs": [],
   "source": [
    "gb.mag.mean().nlargest(10)"
   ]
  },
  {
   "cell_type": "code",
   "execution_count": null,
   "metadata": {},
   "outputs": [],
   "source": [
    "gb.mag.std().nlargest(10)"
   ]
  },
  {
   "cell_type": "markdown",
   "metadata": {},
   "source": [
    "We can also apply multiple functions at once:"
   ]
  },
  {
   "cell_type": "code",
   "execution_count": null,
   "metadata": {},
   "outputs": [],
   "source": [
    "gb.mag.aggregate([np.min, np.max, np.mean]).head()"
   ]
  },
  {
   "cell_type": "code",
   "execution_count": null,
   "metadata": {},
   "outputs": [],
   "source": [
    "gb.mag.aggregate([np.min, np.max, np.mean]).nlargest(10, 'mean').plot(kind='bar')"
   ]
  },
  {
   "cell_type": "markdown",
   "metadata": {},
   "source": [
    "## Transformation\n",
    "\n",
    "The key difference between aggregation and transformation is that aggregation returns a *smaller* object than the original, indexed by the group keys, while *transformation* returns an object with the same index (and same size) as the original object. Groupby + transformation is used when applying an operation that requires information about the whole group.\n",
    "\n",
    "In this example, we standardize the earthquakes in each country so that the distribution has zero mean and unit variance. We do this by first defining a function called `standardize` and then passing it to the `transform` method.\n",
    "\n",
    "I admit that I don't know why you would want to do this. `transform` makes more sense to me in the context of time grouping operation. See below for another example."
   ]
  },
  {
   "cell_type": "code",
   "execution_count": null,
   "metadata": {},
   "outputs": [],
   "source": [
    "def standardize(x):\n",
    "    return (x - x.mean())/x.std()\n",
    "\n",
    "mag_standardized_by_country = gb.mag.transform(standardize)\n",
    "mag_standardized_by_country.head()"
   ]
  },
  {
   "cell_type": "markdown",
   "metadata": {},
   "source": [
    "## Time Grouping\n",
    "\n",
    "We already saw how pandas has a strong built-in understanding of time. This capability is even more powerful in the context of `groupby`. With datasets indexed by a pandas `DateTimeIndex`, we can easily group and resample the data using common time units.\n",
    "\n",
    "To get started, let's load the timeseries data we already explored in past lessons."
   ]
  },
  {
   "cell_type": "code",
   "execution_count": null,
   "metadata": {},
   "outputs": [],
   "source": [
    "import urllib\n",
    "import pandas as pd\n",
    "\n",
    "header_url = 'ftp://ftp.ncdc.noaa.gov/pub/data/uscrn/products/daily01/HEADERS.txt'\n",
    "with urllib.request.urlopen(header_url) as response:\n",
    "    data = response.read().decode('utf-8')\n",
    "lines = data.split('\\n')\n",
    "headers = lines[1].split(' ')\n",
    "\n",
    "ftp_base = 'ftp://ftp.ncdc.noaa.gov/pub/data/uscrn/products/daily01/'\n",
    "dframes = []\n",
    "for year in range(2016, 2019):\n",
    "    data_url = f'{year}/CRND0103-{year}-NY_Millbrook_3_W.txt'               \n",
    "    df = pd.read_csv(ftp_base + data_url, parse_dates=[1],\n",
    "                     names=headers, header=None, sep='\\s+',\n",
    "                     na_values=[-9999.0, -99.0])\n",
    "    dframes.append(df)\n",
    "\n",
    "df = pd.concat(dframes)\n",
    "df = df.set_index('LST_DATE')"
   ]
  },
  {
   "cell_type": "code",
   "execution_count": null,
   "metadata": {},
   "outputs": [],
   "source": [
    "df.head()"
   ]
  },
  {
   "cell_type": "markdown",
   "metadata": {},
   "source": [
    "This timeseries has daily resolution, and the daily plots are somewhat noisy."
   ]
  },
  {
   "cell_type": "code",
   "execution_count": null,
   "metadata": {},
   "outputs": [],
   "source": [
    "df.T_DAILY_MEAN.plot()"
   ]
  },
  {
   "cell_type": "markdown",
   "metadata": {},
   "source": [
    "A common way to analyze such data in climate science is to create a \"climatology,\" which contains the average values in each month or day of the year. We can do this easily with groupby. Recall that `df.index` is a pandas `DateTimeIndex` object."
   ]
  },
  {
   "cell_type": "code",
   "execution_count": null,
   "metadata": {},
   "outputs": [],
   "source": [
    "monthly_climatology = df.select_dtypes(include='number').groupby(df.index.month).mean()\n",
    "monthly_climatology"
   ]
  },
  {
   "cell_type": "markdown",
   "metadata": {},
   "source": [
    "Each row in this new dataframe respresents the average values for the months (1=January, 2=February, etc.)\n",
    "\n",
    "We can apply more customized aggregations, as with any groupby operation. Below we keep the mean of the mean, max of the max, and min of the min for the temperature measurements."
   ]
  },
  {
   "cell_type": "code",
   "execution_count": null,
   "metadata": {},
   "outputs": [],
   "source": [
    "monthly_T_climatology = df.groupby(df.index.month).aggregate({'T_DAILY_MEAN': 'mean',\n",
    "                                                              'T_DAILY_MAX': 'max',\n",
    "                                                              'T_DAILY_MIN': 'min'})\n",
    "monthly_T_climatology.head()"
   ]
  },
  {
   "cell_type": "code",
   "execution_count": null,
   "metadata": {},
   "outputs": [],
   "source": [
    "monthly_T_climatology.plot(marker='o')"
   ]
  },
  {
   "cell_type": "markdown",
   "metadata": {},
   "source": [
    "If we want to do it on a finer scale, we can group by day of year."
   ]
  },
  {
   "cell_type": "code",
   "execution_count": null,
   "metadata": {},
   "outputs": [],
   "source": [
    "daily_T_climatology = df.groupby(df.index.dayofyear).aggregate({'T_DAILY_MEAN': 'mean',\n",
    "                                                            'T_DAILY_MAX': 'max',\n",
    "                                                            'T_DAILY_MIN': 'min'})\n",
    "daily_T_climatology.plot(marker='.')"
   ]
  },
  {
   "cell_type": "markdown",
   "metadata": {},
   "source": [
    "### Calculating anomalies\n",
    "\n",
    "A common mode of analysis in climate science is to remove the climatology from a signal to focus only on the \"anomaly\" values. This can be accomplished with transformation."
   ]
  },
  {
   "cell_type": "code",
   "execution_count": null,
   "metadata": {},
   "outputs": [],
   "source": [
    "def standardize(x):\n",
    "    return (x - x.mean())/x.std()\n",
    "\n",
    "anomaly = df.select_dtypes(include='number').groupby(df.index.month).transform(standardize)\n",
    "anomaly.plot(y='T_DAILY_MEAN')"
   ]
  },
  {
   "cell_type": "markdown",
   "metadata": {},
   "source": [
    "### Resampling\n",
    "\n",
    "Another common operation is to change the resolution of a dataset by resampling in time. Pandas exposes this through the [resample](http://pandas.pydata.org/pandas-docs/stable/timeseries.html#resampling) function. The resample periods are specified using pandas [offset index](http://pandas.pydata.org/pandas-docs/stable/timeseries.html#offset-aliases) syntax.\n",
    "\n",
    "Below we resample the dataset by taking the mean over each month."
   ]
  },
  {
   "cell_type": "code",
   "execution_count": null,
   "metadata": {},
   "outputs": [],
   "source": [
    "df.select_dtypes(include='number').resample('M').mean().plot(y='T_DAILY_MEAN', marker='o')"
   ]
  },
  {
   "cell_type": "markdown",
   "metadata": {},
   "source": [
    "Just like with `groupby`, we can apply any aggregation function to our `resample` operation."
   ]
  },
  {
   "cell_type": "code",
   "execution_count": null,
   "metadata": {},
   "outputs": [],
   "source": [
    "df.select_dtypes(include='number').resample('M').max().plot(y='T_DAILY_MAX', marker='o')"
   ]
  },
  {
   "cell_type": "markdown",
   "metadata": {},
   "source": [
    "### Rolling Operations\n",
    "\n",
    "The final category of operations applies to \"rolling windows\". (See [rolling](https://pandas.pydata.org/pandas-docs/stable/generated/pandas.DataFrame.rolling.html) documentation.) We specify a function to apply over a moving window along the index. We specify the size of the window and, optionally, the weights. We also use the keyword `centered` to tell pandas whether to center the operation around the midpoint of the window."
   ]
  },
  {
   "cell_type": "code",
   "execution_count": null,
   "metadata": {},
   "outputs": [],
   "source": [
    "df.rolling(30, center=True).T_DAILY_MEAN.mean().plot()\n",
    "df.rolling(30, center=True, win_type='triang').T_DAILY_MEAN.mean().plot()"
   ]
  },
  {
   "cell_type": "code",
   "execution_count": null,
   "metadata": {},
   "outputs": [],
   "source": []
  }
 ],
 "metadata": {
  "kernelspec": {
   "display_name": "Python 3 (ipykernel)",
   "language": "python",
   "name": "python3"
  },
  "language_info": {
   "codemirror_mode": {
    "name": "ipython",
    "version": 3
   },
   "file_extension": ".py",
   "mimetype": "text/x-python",
   "name": "python",
   "nbconvert_exporter": "python",
   "pygments_lexer": "ipython3",
   "version": "3.12.10"
  }
 },
 "nbformat": 4,
 "nbformat_minor": 4
}
